{
  "cells": [
    {
      "cell_type": "markdown",
      "source": [
        "## **Importing Data**\n"
      ],
      "metadata": {
        "id": "j-4odZk1fnbO"
      }
    },
    {
      "cell_type": "code",
      "execution_count": 225,
      "metadata": {
        "id": "EPwACCUcKQcV",
        "pycharm": {
          "name": "#%%\n"
        }
      },
      "outputs": [],
      "source": [
        "################### Importing Libraries ######################\n",
        "import numpy as np\n",
        "import pandas as pd\n",
        "import matplotlib.pyplot as plt\n",
        "import torch\n",
        "import torchvision\n",
        "import torch.nn as nn\n",
        "import torch.nn.functional as F\n",
        "from torchvision.datasets.utils import download_url\n",
        "from torch.utils.data import DataLoader, TensorDataset, random_split\n",
        "from sklearn.preprocessing import StandardScaler\n",
        "from sklearn.preprocessing import LabelEncoder\n",
        "from sklearn.linear_model import LinearRegression\n",
        "from sklearn.ensemble import RandomForestRegressor\n",
        "from sklearn.model_selection import train_test_split # split the data set in to the train and the test data\n",
        "import seaborn as sns  #plot the graph of the data set\n",
        "from sklearn import metrics  # transforming the data in to the metrics\n",
        "from sklearn.preprocessing import LabelEncoder\n"
      ]
    },
    {
      "cell_type": "code",
      "source": [
        "dataframe = pd.read_csv('/content/train.csv' ,encoding = \"ISO-8859-1\")\n",
        "dataframe.info()"
      ],
      "metadata": {
        "colab": {
          "base_uri": "https://localhost:8080/"
        },
        "id": "bu9L5CGt225n",
        "outputId": "fc8e8b5d-16cb-441f-b9a1-18e8c6918124"
      },
      "execution_count": 226,
      "outputs": [
        {
          "output_type": "stream",
          "name": "stdout",
          "text": [
            "<class 'pandas.core.frame.DataFrame'>\n",
            "RangeIndex: 614 entries, 0 to 613\n",
            "Data columns (total 13 columns):\n",
            " #   Column             Non-Null Count  Dtype  \n",
            "---  ------             --------------  -----  \n",
            " 0   Loan_ID            614 non-null    object \n",
            " 1   Gender             601 non-null    object \n",
            " 2   Married            611 non-null    object \n",
            " 3   Dependents         599 non-null    object \n",
            " 4   Education          614 non-null    object \n",
            " 5   Self_Employed      582 non-null    object \n",
            " 6   ApplicantIncome    614 non-null    int64  \n",
            " 7   CoapplicantIncome  614 non-null    float64\n",
            " 8   LoanAmount         592 non-null    float64\n",
            " 9   Loan_Amount_Term   600 non-null    float64\n",
            " 10  Credit_History     564 non-null    float64\n",
            " 11  Property_Area      614 non-null    object \n",
            " 12  Loan_Status        614 non-null    object \n",
            "dtypes: float64(4), int64(1), object(8)\n",
            "memory usage: 62.5+ KB\n"
          ]
        }
      ]
    },
    {
      "cell_type": "code",
      "source": [
        "dataframe.head()"
      ],
      "metadata": {
        "colab": {
          "base_uri": "https://localhost:8080/",
          "height": 287
        },
        "id": "xgCkj1zRBi5x",
        "outputId": "9a71d196-a339-4957-bb77-a661d4421755"
      },
      "execution_count": 227,
      "outputs": [
        {
          "output_type": "execute_result",
          "data": {
            "text/plain": [
              "    Loan_ID Gender Married Dependents     Education Self_Employed  \\\n",
              "0  LP001002   Male      No          0      Graduate            No   \n",
              "1  LP001003   Male     Yes          1      Graduate            No   \n",
              "2  LP001005   Male     Yes          0      Graduate           Yes   \n",
              "3  LP001006   Male     Yes          0  Not Graduate            No   \n",
              "4  LP001008   Male      No          0      Graduate            No   \n",
              "\n",
              "   ApplicantIncome  CoapplicantIncome  LoanAmount  Loan_Amount_Term  \\\n",
              "0             5849                0.0         NaN             360.0   \n",
              "1             4583             1508.0       128.0             360.0   \n",
              "2             3000                0.0        66.0             360.0   \n",
              "3             2583             2358.0       120.0             360.0   \n",
              "4             6000                0.0       141.0             360.0   \n",
              "\n",
              "   Credit_History Property_Area Loan_Status  \n",
              "0             1.0         Urban           Y  \n",
              "1             1.0         Rural           N  \n",
              "2             1.0         Urban           Y  \n",
              "3             1.0         Urban           Y  \n",
              "4             1.0         Urban           Y  "
            ],
            "text/html": [
              "\n",
              "  <div id=\"df-0a4de12c-a698-4044-aa6f-2f5a29fb0431\">\n",
              "    <div class=\"colab-df-container\">\n",
              "      <div>\n",
              "<style scoped>\n",
              "    .dataframe tbody tr th:only-of-type {\n",
              "        vertical-align: middle;\n",
              "    }\n",
              "\n",
              "    .dataframe tbody tr th {\n",
              "        vertical-align: top;\n",
              "    }\n",
              "\n",
              "    .dataframe thead th {\n",
              "        text-align: right;\n",
              "    }\n",
              "</style>\n",
              "<table border=\"1\" class=\"dataframe\">\n",
              "  <thead>\n",
              "    <tr style=\"text-align: right;\">\n",
              "      <th></th>\n",
              "      <th>Loan_ID</th>\n",
              "      <th>Gender</th>\n",
              "      <th>Married</th>\n",
              "      <th>Dependents</th>\n",
              "      <th>Education</th>\n",
              "      <th>Self_Employed</th>\n",
              "      <th>ApplicantIncome</th>\n",
              "      <th>CoapplicantIncome</th>\n",
              "      <th>LoanAmount</th>\n",
              "      <th>Loan_Amount_Term</th>\n",
              "      <th>Credit_History</th>\n",
              "      <th>Property_Area</th>\n",
              "      <th>Loan_Status</th>\n",
              "    </tr>\n",
              "  </thead>\n",
              "  <tbody>\n",
              "    <tr>\n",
              "      <th>0</th>\n",
              "      <td>LP001002</td>\n",
              "      <td>Male</td>\n",
              "      <td>No</td>\n",
              "      <td>0</td>\n",
              "      <td>Graduate</td>\n",
              "      <td>No</td>\n",
              "      <td>5849</td>\n",
              "      <td>0.0</td>\n",
              "      <td>NaN</td>\n",
              "      <td>360.0</td>\n",
              "      <td>1.0</td>\n",
              "      <td>Urban</td>\n",
              "      <td>Y</td>\n",
              "    </tr>\n",
              "    <tr>\n",
              "      <th>1</th>\n",
              "      <td>LP001003</td>\n",
              "      <td>Male</td>\n",
              "      <td>Yes</td>\n",
              "      <td>1</td>\n",
              "      <td>Graduate</td>\n",
              "      <td>No</td>\n",
              "      <td>4583</td>\n",
              "      <td>1508.0</td>\n",
              "      <td>128.0</td>\n",
              "      <td>360.0</td>\n",
              "      <td>1.0</td>\n",
              "      <td>Rural</td>\n",
              "      <td>N</td>\n",
              "    </tr>\n",
              "    <tr>\n",
              "      <th>2</th>\n",
              "      <td>LP001005</td>\n",
              "      <td>Male</td>\n",
              "      <td>Yes</td>\n",
              "      <td>0</td>\n",
              "      <td>Graduate</td>\n",
              "      <td>Yes</td>\n",
              "      <td>3000</td>\n",
              "      <td>0.0</td>\n",
              "      <td>66.0</td>\n",
              "      <td>360.0</td>\n",
              "      <td>1.0</td>\n",
              "      <td>Urban</td>\n",
              "      <td>Y</td>\n",
              "    </tr>\n",
              "    <tr>\n",
              "      <th>3</th>\n",
              "      <td>LP001006</td>\n",
              "      <td>Male</td>\n",
              "      <td>Yes</td>\n",
              "      <td>0</td>\n",
              "      <td>Not Graduate</td>\n",
              "      <td>No</td>\n",
              "      <td>2583</td>\n",
              "      <td>2358.0</td>\n",
              "      <td>120.0</td>\n",
              "      <td>360.0</td>\n",
              "      <td>1.0</td>\n",
              "      <td>Urban</td>\n",
              "      <td>Y</td>\n",
              "    </tr>\n",
              "    <tr>\n",
              "      <th>4</th>\n",
              "      <td>LP001008</td>\n",
              "      <td>Male</td>\n",
              "      <td>No</td>\n",
              "      <td>0</td>\n",
              "      <td>Graduate</td>\n",
              "      <td>No</td>\n",
              "      <td>6000</td>\n",
              "      <td>0.0</td>\n",
              "      <td>141.0</td>\n",
              "      <td>360.0</td>\n",
              "      <td>1.0</td>\n",
              "      <td>Urban</td>\n",
              "      <td>Y</td>\n",
              "    </tr>\n",
              "  </tbody>\n",
              "</table>\n",
              "</div>\n",
              "      <button class=\"colab-df-convert\" onclick=\"convertToInteractive('df-0a4de12c-a698-4044-aa6f-2f5a29fb0431')\"\n",
              "              title=\"Convert this dataframe to an interactive table.\"\n",
              "              style=\"display:none;\">\n",
              "        \n",
              "  <svg xmlns=\"http://www.w3.org/2000/svg\" height=\"24px\"viewBox=\"0 0 24 24\"\n",
              "       width=\"24px\">\n",
              "    <path d=\"M0 0h24v24H0V0z\" fill=\"none\"/>\n",
              "    <path d=\"M18.56 5.44l.94 2.06.94-2.06 2.06-.94-2.06-.94-.94-2.06-.94 2.06-2.06.94zm-11 1L8.5 8.5l.94-2.06 2.06-.94-2.06-.94L8.5 2.5l-.94 2.06-2.06.94zm10 10l.94 2.06.94-2.06 2.06-.94-2.06-.94-.94-2.06-.94 2.06-2.06.94z\"/><path d=\"M17.41 7.96l-1.37-1.37c-.4-.4-.92-.59-1.43-.59-.52 0-1.04.2-1.43.59L10.3 9.45l-7.72 7.72c-.78.78-.78 2.05 0 2.83L4 21.41c.39.39.9.59 1.41.59.51 0 1.02-.2 1.41-.59l7.78-7.78 2.81-2.81c.8-.78.8-2.07 0-2.86zM5.41 20L4 18.59l7.72-7.72 1.47 1.35L5.41 20z\"/>\n",
              "  </svg>\n",
              "      </button>\n",
              "      \n",
              "  <style>\n",
              "    .colab-df-container {\n",
              "      display:flex;\n",
              "      flex-wrap:wrap;\n",
              "      gap: 12px;\n",
              "    }\n",
              "\n",
              "    .colab-df-convert {\n",
              "      background-color: #E8F0FE;\n",
              "      border: none;\n",
              "      border-radius: 50%;\n",
              "      cursor: pointer;\n",
              "      display: none;\n",
              "      fill: #1967D2;\n",
              "      height: 32px;\n",
              "      padding: 0 0 0 0;\n",
              "      width: 32px;\n",
              "    }\n",
              "\n",
              "    .colab-df-convert:hover {\n",
              "      background-color: #E2EBFA;\n",
              "      box-shadow: 0px 1px 2px rgba(60, 64, 67, 0.3), 0px 1px 3px 1px rgba(60, 64, 67, 0.15);\n",
              "      fill: #174EA6;\n",
              "    }\n",
              "\n",
              "    [theme=dark] .colab-df-convert {\n",
              "      background-color: #3B4455;\n",
              "      fill: #D2E3FC;\n",
              "    }\n",
              "\n",
              "    [theme=dark] .colab-df-convert:hover {\n",
              "      background-color: #434B5C;\n",
              "      box-shadow: 0px 1px 3px 1px rgba(0, 0, 0, 0.15);\n",
              "      filter: drop-shadow(0px 1px 2px rgba(0, 0, 0, 0.3));\n",
              "      fill: #FFFFFF;\n",
              "    }\n",
              "  </style>\n",
              "\n",
              "      <script>\n",
              "        const buttonEl =\n",
              "          document.querySelector('#df-0a4de12c-a698-4044-aa6f-2f5a29fb0431 button.colab-df-convert');\n",
              "        buttonEl.style.display =\n",
              "          google.colab.kernel.accessAllowed ? 'block' : 'none';\n",
              "\n",
              "        async function convertToInteractive(key) {\n",
              "          const element = document.querySelector('#df-0a4de12c-a698-4044-aa6f-2f5a29fb0431');\n",
              "          const dataTable =\n",
              "            await google.colab.kernel.invokeFunction('convertToInteractive',\n",
              "                                                     [key], {});\n",
              "          if (!dataTable) return;\n",
              "\n",
              "          const docLinkHtml = 'Like what you see? Visit the ' +\n",
              "            '<a target=\"_blank\" href=https://colab.research.google.com/notebooks/data_table.ipynb>data table notebook</a>'\n",
              "            + ' to learn more about interactive tables.';\n",
              "          element.innerHTML = '';\n",
              "          dataTable['output_type'] = 'display_data';\n",
              "          await google.colab.output.renderOutput(dataTable, element);\n",
              "          const docLink = document.createElement('div');\n",
              "          docLink.innerHTML = docLinkHtml;\n",
              "          element.appendChild(docLink);\n",
              "        }\n",
              "      </script>\n",
              "    </div>\n",
              "  </div>\n",
              "  "
            ]
          },
          "metadata": {},
          "execution_count": 227
        }
      ]
    },
    {
      "cell_type": "code",
      "source": [
        "from google.colab import drive\n",
        "drive.mount('/content/drive')"
      ],
      "metadata": {
        "colab": {
          "base_uri": "https://localhost:8080/"
        },
        "id": "nfnH1n03OWBh",
        "outputId": "e019add2-6b80-45a2-81a9-8127df73debf",
        "pycharm": {
          "name": "#%%\n"
        }
      },
      "execution_count": 228,
      "outputs": [
        {
          "output_type": "stream",
          "name": "stdout",
          "text": [
            "Drive already mounted at /content/drive; to attempt to forcibly remount, call drive.mount(\"/content/drive\", force_remount=True).\n"
          ]
        }
      ]
    },
    {
      "cell_type": "markdown",
      "source": [
        "## **Data pre-processing & :Data Visualisation**\n",
        "---"
      ],
      "metadata": {
        "id": "NC443uADgTVB"
      }
    },
    {
      "cell_type": "code",
      "source": [
        "dataframe.columns"
      ],
      "metadata": {
        "colab": {
          "base_uri": "https://localhost:8080/"
        },
        "id": "j-RSOS5k--Mv",
        "outputId": "0ddbf720-1ac5-439c-8c82-a72a26eb9846"
      },
      "execution_count": 229,
      "outputs": [
        {
          "output_type": "execute_result",
          "data": {
            "text/plain": [
              "Index(['Loan_ID', 'Gender', 'Married', 'Dependents', 'Education',\n",
              "       'Self_Employed', 'ApplicantIncome', 'CoapplicantIncome', 'LoanAmount',\n",
              "       'Loan_Amount_Term', 'Credit_History', 'Property_Area', 'Loan_Status'],\n",
              "      dtype='object')"
            ]
          },
          "metadata": {},
          "execution_count": 229
        }
      ]
    },
    {
      "cell_type": "code",
      "source": [
        "sns.heatmap(dataframe.corr(),annot=True)"
      ],
      "metadata": {
        "colab": {
          "base_uri": "https://localhost:8080/",
          "height": 373
        },
        "id": "ySACUqei_I33",
        "outputId": "7e4dc5e7-2770-429c-9af6-f3407b346b9d"
      },
      "execution_count": 230,
      "outputs": [
        {
          "output_type": "execute_result",
          "data": {
            "text/plain": [
              "<matplotlib.axes._subplots.AxesSubplot at 0x7f85394a1610>"
            ]
          },
          "metadata": {},
          "execution_count": 230
        },
        {
          "output_type": "display_data",
          "data": {
            "text/plain": [
              "<Figure size 432x288 with 2 Axes>"
            ],
            "image/png": "[encoded data removed]"
          },
          "metadata": {
            "needs_background": "light"
          }
        }
      ]
    },
    {
      "cell_type": "code",
      "source": [
        "selected_features = dataframe[['Loan_ID', 'Gender', 'Married', 'Dependents', 'Education',\n",
        "       'Self_Employed', 'ApplicantIncome', 'CoapplicantIncome', 'LoanAmount',\n",
        "       'Loan_Amount_Term', 'Credit_History', 'Property_Area', 'Loan_Status']] #feaures on which our reommedtation is dependent\n",
        "selected_Loanstatus = dataframe['Loan_Status'] #The output that the user get input from our dataset"
      ],
      "metadata": {
        "id": "DLxS0mL93Y_J"
      },
      "execution_count": 231,
      "outputs": []
    },
    {
      "cell_type": "code",
      "source": [
        "selected_features.head()"
      ],
      "metadata": {
        "colab": {
          "base_uri": "https://localhost:8080/",
          "height": 287
        },
        "id": "MSLStyzD4DXA",
        "outputId": "e4a1d573-cb5e-4b98-8544-fc8f5dab68d0"
      },
      "execution_count": 232,
      "outputs": [
        {
          "output_type": "execute_result",
          "data": {
            "text/plain": [
              "    Loan_ID Gender Married Dependents     Education Self_Employed  \\\n",
              "0  LP001002   Male      No          0      Graduate            No   \n",
              "1  LP001003   Male     Yes          1      Graduate            No   \n",
              "2  LP001005   Male     Yes          0      Graduate           Yes   \n",
              "3  LP001006   Male     Yes          0  Not Graduate            No   \n",
              "4  LP001008   Male      No          0      Graduate            No   \n",
              "\n",
              "   ApplicantIncome  CoapplicantIncome  LoanAmount  Loan_Amount_Term  \\\n",
              "0             5849                0.0         NaN             360.0   \n",
              "1             4583             1508.0       128.0             360.0   \n",
              "2             3000                0.0        66.0             360.0   \n",
              "3             2583             2358.0       120.0             360.0   \n",
              "4             6000                0.0       141.0             360.0   \n",
              "\n",
              "   Credit_History Property_Area Loan_Status  \n",
              "0             1.0         Urban           Y  \n",
              "1             1.0         Rural           N  \n",
              "2             1.0         Urban           Y  \n",
              "3             1.0         Urban           Y  \n",
              "4             1.0         Urban           Y  "
            ],
            "text/html": [
              "\n",
              "  <div id=\"df-342c9da6-b4ff-4595-b7dc-56535f6a41e5\">\n",
              "    <div class=\"colab-df-container\">\n",
              "      <div>\n",
              "<style scoped>\n",
              "    .dataframe tbody tr th:only-of-type {\n",
              "        vertical-align: middle;\n",
              "    }\n",
              "\n",
              "    .dataframe tbody tr th {\n",
              "        vertical-align: top;\n",
              "    }\n",
              "\n",
              "    .dataframe thead th {\n",
              "        text-align: right;\n",
              "    }\n",
              "</style>\n",
              "<table border=\"1\" class=\"dataframe\">\n",
              "  <thead>\n",
              "    <tr style=\"text-align: right;\">\n",
              "      <th></th>\n",
              "      <th>Loan_ID</th>\n",
              "      <th>Gender</th>\n",
              "      <th>Married</th>\n",
              "      <th>Dependents</th>\n",
              "      <th>Education</th>\n",
              "      <th>Self_Employed</th>\n",
              "      <th>ApplicantIncome</th>\n",
              "      <th>CoapplicantIncome</th>\n",
              "      <th>LoanAmount</th>\n",
              "      <th>Loan_Amount_Term</th>\n",
              "      <th>Credit_History</th>\n",
              "      <th>Property_Area</th>\n",
              "      <th>Loan_Status</th>\n",
              "    </tr>\n",
              "  </thead>\n",
              "  <tbody>\n",
              "    <tr>\n",
              "      <th>0</th>\n",
              "      <td>LP001002</td>\n",
              "      <td>Male</td>\n",
              "      <td>No</td>\n",
              "      <td>0</td>\n",
              "      <td>Graduate</td>\n",
              "      <td>No</td>\n",
              "      <td>5849</td>\n",
              "      <td>0.0</td>\n",
              "      <td>NaN</td>\n",
              "      <td>360.0</td>\n",
              "      <td>1.0</td>\n",
              "      <td>Urban</td>\n",
              "      <td>Y</td>\n",
              "    </tr>\n",
              "    <tr>\n",
              "      <th>1</th>\n",
              "      <td>LP001003</td>\n",
              "      <td>Male</td>\n",
              "      <td>Yes</td>\n",
              "      <td>1</td>\n",
              "      <td>Graduate</td>\n",
              "      <td>No</td>\n",
              "      <td>4583</td>\n",
              "      <td>1508.0</td>\n",
              "      <td>128.0</td>\n",
              "      <td>360.0</td>\n",
              "      <td>1.0</td>\n",
              "      <td>Rural</td>\n",
              "      <td>N</td>\n",
              "    </tr>\n",
              "    <tr>\n",
              "      <th>2</th>\n",
              "      <td>LP001005</td>\n",
              "      <td>Male</td>\n",
              "      <td>Yes</td>\n",
              "      <td>0</td>\n",
              "      <td>Graduate</td>\n",
              "      <td>Yes</td>\n",
              "      <td>3000</td>\n",
              "      <td>0.0</td>\n",
              "      <td>66.0</td>\n",
              "      <td>360.0</td>\n",
              "      <td>1.0</td>\n",
              "      <td>Urban</td>\n",
              "      <td>Y</td>\n",
              "    </tr>\n",
              "    <tr>\n",
              "      <th>3</th>\n",
              "      <td>LP001006</td>\n",
              "      <td>Male</td>\n",
              "      <td>Yes</td>\n",
              "      <td>0</td>\n",
              "      <td>Not Graduate</td>\n",
              "      <td>No</td>\n",
              "      <td>2583</td>\n",
              "      <td>2358.0</td>\n",
              "      <td>120.0</td>\n",
              "      <td>360.0</td>\n",
              "      <td>1.0</td>\n",
              "      <td>Urban</td>\n",
              "      <td>Y</td>\n",
              "    </tr>\n",
              "    <tr>\n",
              "      <th>4</th>\n",
              "      <td>LP001008</td>\n",
              "      <td>Male</td>\n",
              "      <td>No</td>\n",
              "      <td>0</td>\n",
              "      <td>Graduate</td>\n",
              "      <td>No</td>\n",
              "      <td>6000</td>\n",
              "      <td>0.0</td>\n",
              "      <td>141.0</td>\n",
              "      <td>360.0</td>\n",
              "      <td>1.0</td>\n",
              "      <td>Urban</td>\n",
              "      <td>Y</td>\n",
              "    </tr>\n",
              "  </tbody>\n",
              "</table>\n",
              "</div>\n",
              "      <button class=\"colab-df-convert\" onclick=\"convertToInteractive('df-342c9da6-b4ff-4595-b7dc-56535f6a41e5')\"\n",
              "              title=\"Convert this dataframe to an interactive table.\"\n",
              "              style=\"display:none;\">\n",
              "        \n",
              "  <svg xmlns=\"http://www.w3.org/2000/svg\" height=\"24px\"viewBox=\"0 0 24 24\"\n",
              "       width=\"24px\">\n",
              "    <path d=\"M0 0h24v24H0V0z\" fill=\"none\"/>\n",
              "    <path d=\"M18.56 5.44l.94 2.06.94-2.06 2.06-.94-2.06-.94-.94-2.06-.94 2.06-2.06.94zm-11 1L8.5 8.5l.94-2.06 2.06-.94-2.06-.94L8.5 2.5l-.94 2.06-2.06.94zm10 10l.94 2.06.94-2.06 2.06-.94-2.06-.94-.94-2.06-.94 2.06-2.06.94z\"/><path d=\"M17.41 7.96l-1.37-1.37c-.4-.4-.92-.59-1.43-.59-.52 0-1.04.2-1.43.59L10.3 9.45l-7.72 7.72c-.78.78-.78 2.05 0 2.83L4 21.41c.39.39.9.59 1.41.59.51 0 1.02-.2 1.41-.59l7.78-7.78 2.81-2.81c.8-.78.8-2.07 0-2.86zM5.41 20L4 18.59l7.72-7.72 1.47 1.35L5.41 20z\"/>\n",
              "  </svg>\n",
              "      </button>\n",
              "      \n",
              "  <style>\n",
              "    .colab-df-container {\n",
              "      display:flex;\n",
              "      flex-wrap:wrap;\n",
              "      gap: 12px;\n",
              "    }\n",
              "\n",
              "    .colab-df-convert {\n",
              "      background-color: #E8F0FE;\n",
              "      border: none;\n",
              "      border-radius: 50%;\n",
              "      cursor: pointer;\n",
              "      display: none;\n",
              "      fill: #1967D2;\n",
              "      height: 32px;\n",
              "      padding: 0 0 0 0;\n",
              "      width: 32px;\n",
              "    }\n",
              "\n",
              "    .colab-df-convert:hover {\n",
              "      background-color: #E2EBFA;\n",
              "      box-shadow: 0px 1px 2px rgba(60, 64, 67, 0.3), 0px 1px 3px 1px rgba(60, 64, 67, 0.15);\n",
              "      fill: #174EA6;\n",
              "    }\n",
              "\n",
              "    [theme=dark] .colab-df-convert {\n",
              "      background-color: #3B4455;\n",
              "      fill: #D2E3FC;\n",
              "    }\n",
              "\n",
              "    [theme=dark] .colab-df-convert:hover {\n",
              "      background-color: #434B5C;\n",
              "      box-shadow: 0px 1px 3px 1px rgba(0, 0, 0, 0.15);\n",
              "      filter: drop-shadow(0px 1px 2px rgba(0, 0, 0, 0.3));\n",
              "      fill: #FFFFFF;\n",
              "    }\n",
              "  </style>\n",
              "\n",
              "      <script>\n",
              "        const buttonEl =\n",
              "          document.querySelector('#df-342c9da6-b4ff-4595-b7dc-56535f6a41e5 button.colab-df-convert');\n",
              "        buttonEl.style.display =\n",
              "          google.colab.kernel.accessAllowed ? 'block' : 'none';\n",
              "\n",
              "        async function convertToInteractive(key) {\n",
              "          const element = document.querySelector('#df-342c9da6-b4ff-4595-b7dc-56535f6a41e5');\n",
              "          const dataTable =\n",
              "            await google.colab.kernel.invokeFunction('convertToInteractive',\n",
              "                                                     [key], {});\n",
              "          if (!dataTable) return;\n",
              "\n",
              "          const docLinkHtml = 'Like what you see? Visit the ' +\n",
              "            '<a target=\"_blank\" href=https://colab.research.google.com/notebooks/data_table.ipynb>data table notebook</a>'\n",
              "            + ' to learn more about interactive tables.';\n",
              "          element.innerHTML = '';\n",
              "          dataTable['output_type'] = 'display_data';\n",
              "          await google.colab.output.renderOutput(dataTable, element);\n",
              "          const docLink = document.createElement('div');\n",
              "          docLink.innerHTML = docLinkHtml;\n",
              "          element.appendChild(docLink);\n",
              "        }\n",
              "      </script>\n",
              "    </div>\n",
              "  </div>\n",
              "  "
            ]
          },
          "metadata": {},
          "execution_count": 232
        }
      ]
    },
    {
      "cell_type": "code",
      "source": [
        "selected_Loanstatus.head()"
      ],
      "metadata": {
        "colab": {
          "base_uri": "https://localhost:8080/"
        },
        "id": "DwR4yqgt4Nhs",
        "outputId": "0c5f6379-e458-4c55-ef81-6579a43f27f3"
      },
      "execution_count": 233,
      "outputs": [
        {
          "output_type": "execute_result",
          "data": {
            "text/plain": [
              "0    Y\n",
              "1    N\n",
              "2    Y\n",
              "3    Y\n",
              "4    Y\n",
              "Name: Loan_Status, dtype: object"
            ]
          },
          "metadata": {},
          "execution_count": 233
        }
      ]
    },
    {
      "cell_type": "code",
      "source": [
        "#replacing the null field with 0\n",
        "for feature in selected_features:\n",
        " dataframe[feature] = dataframe[feature].fillna(0)"
      ],
      "metadata": {
        "id": "_3LJBGcU4YZx"
      },
      "execution_count": 234,
      "outputs": []
    },
    {
      "cell_type": "code",
      "source": [
        "cat_f = dataframe.select_dtypes(include='object')\n",
        "categorical_cols = list(cat_f.columns.values.tolist())\n",
        "categorical_cols"
      ],
      "metadata": {
        "colab": {
          "base_uri": "https://localhost:8080/"
        },
        "id": "G8rCH93hy0j5",
        "outputId": "adf4fd44-4dfd-4692-f4f5-622dc1647c5a"
      },
      "execution_count": 235,
      "outputs": [
        {
          "output_type": "execute_result",
          "data": {
            "text/plain": [
              "['Loan_ID',\n",
              " 'Gender',\n",
              " 'Married',\n",
              " 'Dependents',\n",
              " 'Education',\n",
              " 'Self_Employed',\n",
              " 'Property_Area',\n",
              " 'Loan_Status']"
            ]
          },
          "metadata": {},
          "execution_count": 235
        }
      ]
    },
    {
      "cell_type": "code",
      "source": [
        "input_col = list(dataframe.columns)[1:8] + list(dataframe.columns)[9:]\n",
        "input_col"
      ],
      "metadata": {
        "colab": {
          "base_uri": "https://localhost:8080/"
        },
        "id": "Ebtu-wURy5g5",
        "outputId": "d06da187-ad29-4f91-e888-ca211fce6174"
      },
      "execution_count": 236,
      "outputs": [
        {
          "output_type": "execute_result",
          "data": {
            "text/plain": [
              "['Gender',\n",
              " 'Married',\n",
              " 'Dependents',\n",
              " 'Education',\n",
              " 'Self_Employed',\n",
              " 'ApplicantIncome',\n",
              " 'CoapplicantIncome',\n",
              " 'Loan_Amount_Term',\n",
              " 'Credit_History',\n",
              " 'Property_Area',\n",
              " 'Loan_Status']"
            ]
          },
          "metadata": {},
          "execution_count": 236
        }
      ]
    },
    {
      "cell_type": "code",
      "source": [
        "train_df = dataframe.drop(columns=['Loan_ID']) ## Dropping Loan ID\n",
        "categorical_columns = ['Gender', 'Married', 'Dependents', 'Education', 'Self_Employed', 'Property_Area','Credit_History','Loan_Amount_Term']\n",
        "#categorical_columns = ['Gender', 'Married', 'Dependents', 'Education', 'Self_Employed', 'Property_Area','Loan_Amount_Term']\n",
        "\n",
        "print(categorical_columns)\n",
        "numerical_columns = ['ApplicantIncome', 'CoapplicantIncome', 'LoanAmount']\n",
        "print(numerical_columns)"
      ],
      "metadata": {
        "colab": {
          "base_uri": "https://localhost:8080/"
        },
        "id": "V2eygnzOA8a4",
        "outputId": "6f6c38b4-7e59-4b38-a84b-ce64312b69d3"
      },
      "execution_count": 237,
      "outputs": [
        {
          "output_type": "stream",
          "name": "stdout",
          "text": [
            "['Gender', 'Married', 'Dependents', 'Education', 'Self_Employed', 'Property_Area', 'Credit_History', 'Loan_Amount_Term']\n",
            "['ApplicantIncome', 'CoapplicantIncome', 'LoanAmount']\n"
          ]
        }
      ]
    },
    {
      "cell_type": "code",
      "source": [
        "### Data Visualization libraries\n",
        "import seaborn as sns\n",
        "import matplotlib.pyplot as plt\n",
        "\n",
        "\n",
        "fig,axes = plt.subplots(4,2,figsize=(12,15))\n",
        "for idx,cat_col in enumerate(categorical_columns):\n",
        "    row,col = idx//2,idx%2\n",
        "    sns.countplot(x=cat_col,data=dataframe,hue='Loan_Status',ax=axes[row,col])\n",
        "\n",
        "\n",
        "plt.subplots_adjust(hspace=1)"
      ],
      "metadata": {
        "colab": {
          "base_uri": "https://localhost:8080/",
          "height": 878
        },
        "id": "_vGV77lIA1Dp",
        "outputId": "c5fee882-60da-452f-8542-b56be6c9d0a2"
      },
      "execution_count": 238,
      "outputs": [
        {
          "output_type": "display_data",
          "data": {
            "text/plain": [
              "<Figure size 864x1080 with 8 Axes>"
            ],
            "image/png": "[encoded data removed]"
          },
          "metadata": {
            "needs_background": "light"
          }
        }
      ]
    },
    {
      "cell_type": "code",
      "source": [
        "fig,axes = plt.subplots(1,3,figsize=(17,5))\n",
        "for idx,cat_col in enumerate(numerical_columns):\n",
        "    sns.boxplot(y=cat_col,data=dataframe,x='Loan_Status',ax=axes[idx])\n",
        "\n",
        "print(dataframe[numerical_columns].describe())\n",
        "plt.subplots_adjust(hspace=1)"
      ],
      "metadata": {
        "colab": {
          "base_uri": "https://localhost:8080/",
          "height": 491
        },
        "id": "jkxTn-LBCt52",
        "outputId": "d2e2627b-764a-4c11-854a-61ba9f1c3fee"
      },
      "execution_count": 239,
      "outputs": [
        {
          "output_type": "stream",
          "name": "stdout",
          "text": [
            "       ApplicantIncome  CoapplicantIncome  LoanAmount\n",
            "count       614.000000         614.000000  614.000000\n",
            "mean       5403.459283        1621.245798  141.166124\n",
            "std        6109.041673        2926.248369   88.340630\n",
            "min         150.000000           0.000000    0.000000\n",
            "25%        2877.500000           0.000000   98.000000\n",
            "50%        3812.500000        1188.500000  125.000000\n",
            "75%        5795.000000        2297.250000  164.750000\n",
            "max       81000.000000       41667.000000  700.000000\n"
          ]
        },
        {
          "output_type": "display_data",
          "data": {
            "text/plain": [
              "<Figure size 1224x360 with 3 Axes>"
            ],
            "image/png": "[encoded data removed]"
          },
          "metadata": {
            "needs_background": "light"
          }
        }
      ]
    },
    {
      "cell_type": "code",
      "source": [
        "#### Encoding categrical Features: ##########\n",
        "train_df_encoded = pd.get_dummies(train_df,drop_first=True)\n",
        "train_df_encoded.head()"
      ],
      "metadata": {
        "colab": {
          "base_uri": "https://localhost:8080/",
          "height": 287
        },
        "id": "52oNBirHCwYM",
        "outputId": "c2ba97df-ec88-410e-ff78-d28e561b5f9d"
      },
      "execution_count": 240,
      "outputs": [
        {
          "output_type": "execute_result",
          "data": {
            "text/plain": [
              "   ApplicantIncome  CoapplicantIncome  LoanAmount  Loan_Amount_Term  \\\n",
              "0             5849                0.0         0.0             360.0   \n",
              "1             4583             1508.0       128.0             360.0   \n",
              "2             3000                0.0        66.0             360.0   \n",
              "3             2583             2358.0       120.0             360.0   \n",
              "4             6000                0.0       141.0             360.0   \n",
              "\n",
              "   Credit_History  Gender_Female  Gender_Male  Married_No  Married_Yes  \\\n",
              "0             1.0              0            1           1            0   \n",
              "1             1.0              0            1           0            1   \n",
              "2             1.0              0            1           0            1   \n",
              "3             1.0              0            1           0            1   \n",
              "4             1.0              0            1           1            0   \n",
              "\n",
              "   Dependents_0  Dependents_1  Dependents_2  Dependents_3+  \\\n",
              "0             1             0             0              0   \n",
              "1             0             1             0              0   \n",
              "2             1             0             0              0   \n",
              "3             1             0             0              0   \n",
              "4             1             0             0              0   \n",
              "\n",
              "   Education_Not Graduate  Self_Employed_No  Self_Employed_Yes  \\\n",
              "0                       0                 1                  0   \n",
              "1                       0                 1                  0   \n",
              "2                       0                 0                  1   \n",
              "3                       1                 1                  0   \n",
              "4                       0                 1                  0   \n",
              "\n",
              "   Property_Area_Semiurban  Property_Area_Urban  Loan_Status_Y  \n",
              "0                        0                    1              1  \n",
              "1                        0                    0              0  \n",
              "2                        0                    1              1  \n",
              "3                        0                    1              1  \n",
              "4                        0                    1              1  "
            ],
            "text/html": [
              "\n",
              "  <div id=\"df-82c62b34-1671-4a02-ad59-51f2c375ea5d\">\n",
              "    <div class=\"colab-df-container\">\n",
              "      <div>\n",
              "<style scoped>\n",
              "    .dataframe tbody tr th:only-of-type {\n",
              "        vertical-align: middle;\n",
              "    }\n",
              "\n",
              "    .dataframe tbody tr th {\n",
              "        vertical-align: top;\n",
              "    }\n",
              "\n",
              "    .dataframe thead th {\n",
              "        text-align: right;\n",
              "    }\n",
              "</style>\n",
              "<table border=\"1\" class=\"dataframe\">\n",
              "  <thead>\n",
              "    <tr style=\"text-align: right;\">\n",
              "      <th></th>\n",
              "      <th>ApplicantIncome</th>\n",
              "      <th>CoapplicantIncome</th>\n",
              "      <th>LoanAmount</th>\n",
              "      <th>Loan_Amount_Term</th>\n",
              "      <th>Credit_History</th>\n",
              "      <th>Gender_Female</th>\n",
              "      <th>Gender_Male</th>\n",
              "      <th>Married_No</th>\n",
              "      <th>Married_Yes</th>\n",
              "      <th>Dependents_0</th>\n",
              "      <th>Dependents_1</th>\n",
              "      <th>Dependents_2</th>\n",
              "      <th>Dependents_3+</th>\n",
              "      <th>Education_Not Graduate</th>\n",
              "      <th>Self_Employed_No</th>\n",
              "      <th>Self_Employed_Yes</th>\n",
              "      <th>Property_Area_Semiurban</th>\n",
              "      <th>Property_Area_Urban</th>\n",
              "      <th>Loan_Status_Y</th>\n",
              "    </tr>\n",
              "  </thead>\n",
              "  <tbody>\n",
              "    <tr>\n",
              "      <th>0</th>\n",
              "      <td>5849</td>\n",
              "      <td>0.0</td>\n",
              "      <td>0.0</td>\n",
              "      <td>360.0</td>\n",
              "      <td>1.0</td>\n",
              "      <td>0</td>\n",
              "      <td>1</td>\n",
              "      <td>1</td>\n",
              "      <td>0</td>\n",
              "      <td>1</td>\n",
              "      <td>0</td>\n",
              "      <td>0</td>\n",
              "      <td>0</td>\n",
              "      <td>0</td>\n",
              "      <td>1</td>\n",
              "      <td>0</td>\n",
              "      <td>0</td>\n",
              "      <td>1</td>\n",
              "      <td>1</td>\n",
              "    </tr>\n",
              "    <tr>\n",
              "      <th>1</th>\n",
              "      <td>4583</td>\n",
              "      <td>1508.0</td>\n",
              "      <td>128.0</td>\n",
              "      <td>360.0</td>\n",
              "      <td>1.0</td>\n",
              "      <td>0</td>\n",
              "      <td>1</td>\n",
              "      <td>0</td>\n",
              "      <td>1</td>\n",
              "      <td>0</td>\n",
              "      <td>1</td>\n",
              "      <td>0</td>\n",
              "      <td>0</td>\n",
              "      <td>0</td>\n",
              "      <td>1</td>\n",
              "      <td>0</td>\n",
              "      <td>0</td>\n",
              "      <td>0</td>\n",
              "      <td>0</td>\n",
              "    </tr>\n",
              "    <tr>\n",
              "      <th>2</th>\n",
              "      <td>3000</td>\n",
              "      <td>0.0</td>\n",
              "      <td>66.0</td>\n",
              "      <td>360.0</td>\n",
              "      <td>1.0</td>\n",
              "      <td>0</td>\n",
              "      <td>1</td>\n",
              "      <td>0</td>\n",
              "      <td>1</td>\n",
              "      <td>1</td>\n",
              "      <td>0</td>\n",
              "      <td>0</td>\n",
              "      <td>0</td>\n",
              "      <td>0</td>\n",
              "      <td>0</td>\n",
              "      <td>1</td>\n",
              "      <td>0</td>\n",
              "      <td>1</td>\n",
              "      <td>1</td>\n",
              "    </tr>\n",
              "    <tr>\n",
              "      <th>3</th>\n",
              "      <td>2583</td>\n",
              "      <td>2358.0</td>\n",
              "      <td>120.0</td>\n",
              "      <td>360.0</td>\n",
              "      <td>1.0</td>\n",
              "      <td>0</td>\n",
              "      <td>1</td>\n",
              "      <td>0</td>\n",
              "      <td>1</td>\n",
              "      <td>1</td>\n",
              "      <td>0</td>\n",
              "      <td>0</td>\n",
              "      <td>0</td>\n",
              "      <td>1</td>\n",
              "      <td>1</td>\n",
              "      <td>0</td>\n",
              "      <td>0</td>\n",
              "      <td>1</td>\n",
              "      <td>1</td>\n",
              "    </tr>\n",
              "    <tr>\n",
              "      <th>4</th>\n",
              "      <td>6000</td>\n",
              "      <td>0.0</td>\n",
              "      <td>141.0</td>\n",
              "      <td>360.0</td>\n",
              "      <td>1.0</td>\n",
              "      <td>0</td>\n",
              "      <td>1</td>\n",
              "      <td>1</td>\n",
              "      <td>0</td>\n",
              "      <td>1</td>\n",
              "      <td>0</td>\n",
              "      <td>0</td>\n",
              "      <td>0</td>\n",
              "      <td>0</td>\n",
              "      <td>1</td>\n",
              "      <td>0</td>\n",
              "      <td>0</td>\n",
              "      <td>1</td>\n",
              "      <td>1</td>\n",
              "    </tr>\n",
              "  </tbody>\n",
              "</table>\n",
              "</div>\n",
              "      <button class=\"colab-df-convert\" onclick=\"convertToInteractive('df-82c62b34-1671-4a02-ad59-51f2c375ea5d')\"\n",
              "              title=\"Convert this dataframe to an interactive table.\"\n",
              "              style=\"display:none;\">\n",
              "        \n",
              "  <svg xmlns=\"http://www.w3.org/2000/svg\" height=\"24px\"viewBox=\"0 0 24 24\"\n",
              "       width=\"24px\">\n",
              "    <path d=\"M0 0h24v24H0V0z\" fill=\"none\"/>\n",
              "    <path d=\"M18.56 5.44l.94 2.06.94-2.06 2.06-.94-2.06-.94-.94-2.06-.94 2.06-2.06.94zm-11 1L8.5 8.5l.94-2.06 2.06-.94-2.06-.94L8.5 2.5l-.94 2.06-2.06.94zm10 10l.94 2.06.94-2.06 2.06-.94-2.06-.94-.94-2.06-.94 2.06-2.06.94z\"/><path d=\"M17.41 7.96l-1.37-1.37c-.4-.4-.92-.59-1.43-.59-.52 0-1.04.2-1.43.59L10.3 9.45l-7.72 7.72c-.78.78-.78 2.05 0 2.83L4 21.41c.39.39.9.59 1.41.59.51 0 1.02-.2 1.41-.59l7.78-7.78 2.81-2.81c.8-.78.8-2.07 0-2.86zM5.41 20L4 18.59l7.72-7.72 1.47 1.35L5.41 20z\"/>\n",
              "  </svg>\n",
              "      </button>\n",
              "      \n",
              "  <style>\n",
              "    .colab-df-container {\n",
              "      display:flex;\n",
              "      flex-wrap:wrap;\n",
              "      gap: 12px;\n",
              "    }\n",
              "\n",
              "    .colab-df-convert {\n",
              "      background-color: #E8F0FE;\n",
              "      border: none;\n",
              "      border-radius: 50%;\n",
              "      cursor: pointer;\n",
              "      display: none;\n",
              "      fill: #1967D2;\n",
              "      height: 32px;\n",
              "      padding: 0 0 0 0;\n",
              "      width: 32px;\n",
              "    }\n",
              "\n",
              "    .colab-df-convert:hover {\n",
              "      background-color: #E2EBFA;\n",
              "      box-shadow: 0px 1px 2px rgba(60, 64, 67, 0.3), 0px 1px 3px 1px rgba(60, 64, 67, 0.15);\n",
              "      fill: #174EA6;\n",
              "    }\n",
              "\n",
              "    [theme=dark] .colab-df-convert {\n",
              "      background-color: #3B4455;\n",
              "      fill: #D2E3FC;\n",
              "    }\n",
              "\n",
              "    [theme=dark] .colab-df-convert:hover {\n",
              "      background-color: #434B5C;\n",
              "      box-shadow: 0px 1px 3px 1px rgba(0, 0, 0, 0.15);\n",
              "      filter: drop-shadow(0px 1px 2px rgba(0, 0, 0, 0.3));\n",
              "      fill: #FFFFFF;\n",
              "    }\n",
              "  </style>\n",
              "\n",
              "      <script>\n",
              "        const buttonEl =\n",
              "          document.querySelector('#df-82c62b34-1671-4a02-ad59-51f2c375ea5d button.colab-df-convert');\n",
              "        buttonEl.style.display =\n",
              "          google.colab.kernel.accessAllowed ? 'block' : 'none';\n",
              "\n",
              "        async function convertToInteractive(key) {\n",
              "          const element = document.querySelector('#df-82c62b34-1671-4a02-ad59-51f2c375ea5d');\n",
              "          const dataTable =\n",
              "            await google.colab.kernel.invokeFunction('convertToInteractive',\n",
              "                                                     [key], {});\n",
              "          if (!dataTable) return;\n",
              "\n",
              "          const docLinkHtml = 'Like what you see? Visit the ' +\n",
              "            '<a target=\"_blank\" href=https://colab.research.google.com/notebooks/data_table.ipynb>data table notebook</a>'\n",
              "            + ' to learn more about interactive tables.';\n",
              "          element.innerHTML = '';\n",
              "          dataTable['output_type'] = 'display_data';\n",
              "          await google.colab.output.renderOutput(dataTable, element);\n",
              "          const docLink = document.createElement('div');\n",
              "          docLink.innerHTML = docLinkHtml;\n",
              "          element.appendChild(docLink);\n",
              "        }\n",
              "      </script>\n",
              "    </div>\n",
              "  </div>\n",
              "  "
            ]
          },
          "metadata": {},
          "execution_count": 240
        }
      ]
    },
    {
      "cell_type": "code",
      "source": [
        "dataframe['Loan_ID'].value_counts()"
      ],
      "metadata": {
        "colab": {
          "base_uri": "https://localhost:8080/"
        },
        "id": "bXHKSHMiyTyo",
        "outputId": "6ead70f4-dbc7-4944-cbd7-a8afb5c47900"
      },
      "execution_count": 241,
      "outputs": [
        {
          "output_type": "execute_result",
          "data": {
            "text/plain": [
              "LP001002    1\n",
              "LP002328    1\n",
              "LP002305    1\n",
              "LP002308    1\n",
              "LP002314    1\n",
              "           ..\n",
              "LP001692    1\n",
              "LP001693    1\n",
              "LP001698    1\n",
              "LP001699    1\n",
              "LP002990    1\n",
              "Name: Loan_ID, Length: 614, dtype: int64"
            ]
          },
          "metadata": {},
          "execution_count": 241
        }
      ]
    },
    {
      "cell_type": "code",
      "source": [
        "def encode(data): \n",
        "  label_encode = LabelEncoder()\n",
        "  label = label_encode.fit_transform(data)\n",
        "  return label"
      ],
      "metadata": {
        "id": "Dm1HJ1YUx2Cd"
      },
      "execution_count": 242,
      "outputs": []
    },
    {
      "cell_type": "code",
      "source": [
        "dataframe[\"Loan_ID\"] = encode(dataframe[\"Loan_ID\"])"
      ],
      "metadata": {
        "id": "XWVOwiK5zV67"
      },
      "execution_count": 243,
      "outputs": []
    },
    {
      "cell_type": "code",
      "source": [
        "########## Split Features and Target Varible ############\n",
        "X = train_df_encoded.drop(columns='Loan_Status_Y')\n",
        "y = train_df_encoded['Loan_Status_Y']\n",
        "\n",
        "################# Splitting into Train -Test Data #######\n",
        "from sklearn.model_selection import train_test_split\n",
        "X_train,X_test,y_train,y_test = train_test_split(X,y,test_size=0.2,stratify =y,random_state =42)\n",
        "#x_train get some random data to train the model as per sixe of test_size, greater the test size less will be train data \n",
        "#y_train get the same number of crosspondingnoutput values of x_train\n",
        "print(X_train.shape)\n",
        "print(y_train.shape)\n",
        "#X-test-get the test data from the dataset , size of the test data is specified by the programmer  \n",
        "#y_test get the same number of crosspondingnoutput values of y_test\n",
        "print(X_test.shape)\n",
        "print(y_test.shape)\n",
        "#Random-state specifies the Randomness in the data set and the repetation of the data set for validation\n",
        "############### Handling/Imputing Missing values #############\n",
        "from sklearn.impute import SimpleImputer\n",
        "imp = SimpleImputer(strategy='mean')\n",
        "imp_train = imp.fit(X_train)\n",
        "X_train = imp_train.transform(X_train)\n",
        "X_test_imp = imp_train.transform(X_test)"
      ],
      "metadata": {
        "id": "tUIuOyWhDHFj",
        "colab": {
          "base_uri": "https://localhost:8080/"
        },
        "outputId": "0c675a42-acbe-4f29-9e6d-132228004579"
      },
      "execution_count": 244,
      "outputs": [
        {
          "output_type": "stream",
          "name": "stdout",
          "text": [
            "(491, 18)\n",
            "(491,)\n",
            "(123, 18)\n",
            "(123,)\n"
          ]
        }
      ]
    },
    {
      "cell_type": "code",
      "source": [
        "output_col = ['LoanAmount']"
      ],
      "metadata": {
        "id": "NnjByP2u0Mpj"
      },
      "execution_count": 245,
      "outputs": []
    },
    {
      "cell_type": "markdown",
      "source": [
        "## **Linear Regression**"
      ],
      "metadata": {
        "id": "WlijMkAfr2fL"
      }
    },
    {
      "cell_type": "code",
      "source": [
        "import numpy as np\n",
        "from sklearn.linear_model import LinearRegression\n",
        "reg = LinearRegression().fit(X_train, y_train)\n",
        "reg.score(X_train, y_train)"
      ],
      "metadata": {
        "colab": {
          "base_uri": "https://localhost:8080/"
        },
        "id": "2RSyDgukr91y",
        "outputId": "9a1d2214-2880-4a3f-ba8e-9cef1cc92e75"
      },
      "execution_count": 380,
      "outputs": [
        {
          "output_type": "execute_result",
          "data": {
            "text/plain": [
              "0.20578773054842137"
            ]
          },
          "metadata": {},
          "execution_count": 380
        }
      ]
    },
    {
      "cell_type": "code",
      "source": [
        "Reg_predict =reg.predict(X_train)\n",
        "Reg_predict"
      ],
      "metadata": {
        "colab": {
          "base_uri": "https://localhost:8080/"
        },
        "id": "t6_wtLx70sA5",
        "outputId": "c178aa5d-dc36-4047-a51c-4d74f48c9fc3"
      },
      "execution_count": 255,
      "outputs": [
        {
          "output_type": "execute_result",
          "data": {
            "text/plain": [
              "array([0.70406999, 0.87049175, 0.35516644, 0.22651952, 0.90088143,\n",
              "       0.83360035, 0.85937883, 0.30201907, 0.70778882, 0.89504812,\n",
              "       0.65184037, 0.67285689, 0.71929363, 0.69845371, 0.85050359,\n",
              "       0.47144402, 0.6785013 , 0.65713226, 0.38123494, 0.76389993,\n",
              "       0.89852552, 0.72654585, 0.79625354, 0.71489787, 0.73113096,\n",
              "       0.77312969, 0.36291477, 0.33123842, 0.29778534, 0.45105967,\n",
              "       0.75817599, 0.75430285, 0.84486238, 0.70186937, 0.28895551,\n",
              "       0.92894189, 0.3955712 , 0.48347114, 0.67418003, 0.17648417,\n",
              "       0.75583475, 0.8060871 , 0.8005559 , 0.77656193, 0.58943598,\n",
              "       0.73008994, 0.93121033, 0.7377109 , 0.29796134, 0.90026972,\n",
              "       0.87652004, 0.24337803, 0.72609305, 0.83211872, 0.89698527,\n",
              "       0.35855446, 0.34461369, 0.87627824, 0.93819533, 0.81509553,\n",
              "       0.90373853, 0.70365426, 0.70156291, 0.89502579, 0.82669248,\n",
              "       0.34401509, 0.93355375, 0.84337359, 0.52077552, 0.36581753,\n",
              "       0.73123547, 0.3826443 , 0.89252164, 0.81057138, 0.86258653,\n",
              "       0.81222555, 0.76766062, 0.90731096, 0.82093283, 0.65191398,\n",
              "       0.71264339, 0.81472872, 0.70719556, 0.85101403, 0.76547275,\n",
              "       0.78129434, 0.23332382, 0.94802862, 0.38758696, 0.7611033 ,\n",
              "       0.73646457, 0.92448412, 0.32010009, 0.84428791, 0.84060288,\n",
              "       0.66152671, 0.82961898, 0.77953127, 0.88696781, 0.66068428,\n",
              "       0.71828148, 0.6120702 , 0.48592857, 0.71138485, 0.84095999,\n",
              "       0.77367186, 0.94734567, 0.88488714, 0.81655559, 0.40081151,\n",
              "       0.39392494, 0.88752629, 0.69847984, 0.24408253, 0.95670625,\n",
              "       0.80664678, 0.78287398, 0.71030626, 0.73254356, 0.12002113,\n",
              "       0.66914883, 0.74477549, 0.72212877, 0.59751478, 0.29667656,\n",
              "       0.72532473, 0.93116139, 0.65131358, 0.78879056, 0.31096875,\n",
              "       0.65552345, 0.7619713 , 0.37022307, 0.88878838, 0.7210126 ,\n",
              "       0.82351451, 0.86658327, 0.67896966, 0.82441418, 0.29924341,\n",
              "       0.77056944, 0.99737981, 0.32424115, 0.78745636, 0.78994393,\n",
              "       0.46471059, 0.76569374, 0.76428979, 0.64850896, 0.70594934,\n",
              "       0.40357089, 0.71524056, 0.91765846, 0.68230891, 0.92093145,\n",
              "       0.74559381, 0.85023671, 0.45794674, 0.15565989, 0.21727297,\n",
              "       0.65843615, 0.73754637, 0.7459076 , 0.39968715, 0.79704954,\n",
              "       0.77559477, 0.10883827, 0.43393393, 0.77927167, 0.90094542,\n",
              "       0.81566566, 0.80520198, 0.31920181, 0.25184052, 0.85507907,\n",
              "       0.77601691, 0.73655775, 0.71129077, 0.30399135, 0.77603024,\n",
              "       0.72288553, 0.824944  , 0.76884344, 0.79014741, 0.65577713,\n",
              "       0.86640737, 0.76838554, 0.73593893, 0.89875032, 0.83613873,\n",
              "       0.78368579, 0.75911044, 0.81007361, 0.89352146, 0.34228639,\n",
              "       0.40248756, 0.77552702, 0.29133329, 0.85032805, 0.66153684,\n",
              "       0.80708419, 0.7366238 , 0.63987681, 0.83360717, 0.30743742,\n",
              "       0.29714671, 0.70958242, 0.69940922, 0.85913794, 0.69998581,\n",
              "       0.80760615, 0.80213025, 0.31481209, 0.67994437, 0.82137128,\n",
              "       0.85129064, 0.8503071 , 0.81415196, 0.75469922, 0.46469295,\n",
              "       0.36228829, 0.77623746, 0.88696471, 0.82076682, 0.97257867,\n",
              "       0.80743131, 0.2627407 , 0.24382755, 0.87459946, 0.75908105,\n",
              "       0.82544329, 0.17298962, 0.67899976, 0.912797  , 0.87128367,\n",
              "       0.94041593, 0.36658822, 0.77708044, 0.3424093 , 0.84615814,\n",
              "       0.74139171, 0.34528829, 0.71923029, 0.81262476, 0.71999271,\n",
              "       0.80702755, 0.84451445, 0.67302927, 0.71624982, 0.81719581,\n",
              "       0.74197596, 0.63278025, 0.24019782, 0.75039347, 0.90430245,\n",
              "       0.80047932, 0.72982378, 0.30166949, 0.2903345 , 0.68801281,\n",
              "       0.6736956 , 0.77768448, 0.79304677, 0.81084097, 0.70620313,\n",
              "       0.30503382, 0.3047271 , 0.20627857, 0.9032497 , 0.64493277,\n",
              "       0.83893149, 0.8653997 , 0.69443332, 0.69316615, 0.90707976,\n",
              "       0.26822975, 0.73605905, 0.97793425, 0.6596827 , 0.81168257,\n",
              "       0.31939875, 0.76815236, 0.79094446, 0.70555087, 0.85967719,\n",
              "       0.29404412, 0.84700467, 0.28226994, 0.73613087, 0.95237531,\n",
              "       0.62866935, 1.01248539, 0.89701424, 0.91237789, 0.8150914 ,\n",
              "       0.8187864 , 0.77261591, 0.80180566, 0.36113114, 0.7944632 ,\n",
              "       0.25836985, 0.90185649, 0.46073723, 0.85430864, 0.32567334,\n",
              "       0.75050866, 0.70957116, 0.38742276, 0.74302603, 0.90722055,\n",
              "       0.71689184, 0.94585364, 0.89156153, 0.80111696, 0.307243  ,\n",
              "       0.4315141 , 0.60218722, 0.75134867, 0.92612602, 0.83463202,\n",
              "       0.65595092, 0.22356676, 0.79194417, 0.84297976, 0.9560017 ,\n",
              "       0.88758147, 0.75566837, 0.81465511, 0.82894808, 0.36799677,\n",
              "       0.82244126, 0.90682024, 0.73806477, 0.72428565, 0.75730254,\n",
              "       0.70815044, 0.24726176, 0.80778728, 0.68980017, 0.75028468,\n",
              "       0.77214391, 0.71987501, 0.72232702, 0.80858922, 0.71282597,\n",
              "       0.7356649 , 0.89190521, 0.29711358, 0.72174856, 0.77066614,\n",
              "       0.80429041, 0.84550153, 0.25430931, 0.82313784, 0.88014548,\n",
              "       0.79322842, 0.2906365 , 0.66704315, 0.45927178, 0.2748733 ,\n",
              "       0.80191655, 0.8535918 , 0.92521164, 0.95207615, 0.78426395,\n",
              "       0.80178616, 0.73426746, 0.47913551, 0.83977045, 0.83337182,\n",
              "       0.77795943, 0.83219185, 0.76167644, 0.68406241, 0.1929372 ,\n",
              "       0.77926133, 0.76392307, 0.72568236, 0.80126075, 0.87126703,\n",
              "       0.36467566, 0.61260451, 0.78356746, 0.80814533, 0.46601788,\n",
              "       0.31723179, 0.84869471, 0.77345974, 0.92677904, 0.71433233,\n",
              "       0.7022942 , 0.71354242, 0.29120507, 0.2917943 , 0.62821197,\n",
              "       0.63137929, 0.84891956, 0.76599123, 0.32291703, 0.72006491,\n",
              "       0.76554006, 0.78094194, 0.71656495, 0.72607498, 0.83934595,\n",
              "       0.70951725, 0.88237097, 0.68428743, 0.87045453, 0.32180189,\n",
              "       0.66990197, 0.84311552, 0.71592068, 0.84370471, 0.93808292,\n",
              "       0.78944844, 0.77360577, 0.64455411, 0.77953532, 0.857932  ,\n",
              "       0.87230315, 0.60970975, 0.38869913, 0.76682289, 0.7670548 ,\n",
              "       0.85637211, 0.79817027, 0.8787316 , 0.79839275, 0.82357862,\n",
              "       0.87074221, 0.76986618, 0.33372922, 0.29197146, 0.89297017,\n",
              "       0.8046824 , 0.26659523, 0.72203102, 0.73333248, 0.79410054,\n",
              "       0.86877299, 0.74631055, 0.66646092, 0.91313588, 0.39584319,\n",
              "       0.29341262, 0.72278749, 0.74260899, 0.8363739 , 0.837086  ,\n",
              "       0.74099549, 0.21272253, 0.83871611, 0.42543223, 0.41728177,\n",
              "       0.76795906, 0.858619  , 0.851316  , 0.63307315, 0.78485637,\n",
              "       0.44885064, 0.76225875, 0.77867298, 0.77700177, 0.77421113,\n",
              "       0.73612939, 0.90140401, 0.71764356, 0.26622768, 0.81339326,\n",
              "       0.89036506, 0.61551424, 0.19951668, 1.03543846, 0.26831591,\n",
              "       0.77253803, 0.30151868, 0.88845978, 0.43548751, 0.80271614,\n",
              "       0.31455138, 0.80198919, 0.68888463, 0.84388299, 0.80809759,\n",
              "       0.33108362, 0.78777906, 0.75310805, 0.89191333, 0.94338101,\n",
              "       0.95671003])"
            ]
          },
          "metadata": {},
          "execution_count": 255
        }
      ]
    },
    {
      "cell_type": "markdown",
      "source": [
        "calculating the mean sqaure error"
      ],
      "metadata": {
        "id": "qLdwvDrp7wRs"
      }
    },
    {
      "cell_type": "code",
      "source": [
        "from sklearn.metrics  import  mean_squared_error\n",
        "mean_squared_error(y_train, Reg_predict)"
      ],
      "metadata": {
        "colab": {
          "base_uri": "https://localhost:8080/"
        },
        "id": "g0AVW3Qu5GR1",
        "outputId": "f0db8997-2011-4a48-81b8-5cd5a5fc4637"
      },
      "execution_count": 256,
      "outputs": [
        {
          "output_type": "execute_result",
          "data": {
            "text/plain": [
              "0.170971699802133"
            ]
          },
          "metadata": {},
          "execution_count": 256
        }
      ]
    },
    {
      "cell_type": "code",
      "source": [
        "np.sqrt(mean_squared_error(y_train, Reg_predict))"
      ],
      "metadata": {
        "colab": {
          "base_uri": "https://localhost:8080/"
        },
        "id": "XPeURrGB64_N",
        "outputId": "3471e8f4-f102-4596-8f22-e63716b34f64"
      },
      "execution_count": 257,
      "outputs": [
        {
          "output_type": "execute_result",
          "data": {
            "text/plain": [
              "0.4134872426111028"
            ]
          },
          "metadata": {},
          "execution_count": 257
        }
      ]
    },
    {
      "cell_type": "markdown",
      "source": [
        "## **Prepare the dataset for training**"
      ],
      "metadata": {
        "id": "DdFIfQwJ0v60"
      }
    },
    {
      "cell_type": "code",
      "source": [
        "dataframe1 = dataframe.copy(deep=True).dropna()\n",
        "for col in categorical_cols:\n",
        "        dataframe1[col] = dataframe1[col].astype('category').cat.codes\n",
        "inputs_array = dataframe1.drop(['Loan_ID', 'LoanAmount' ], axis=1)\n",
        "targets_array = dataframe1[['LoanAmount']].values\n",
        "mean = inputs_array.mean()\n",
        "dev = inputs_array.std()\n",
        "inputs_array = (inputs_array - mean) / dev\n",
        "inputs_array = inputs_array.values\n",
        "inputs_array.shape, targets_array.shape"
      ],
      "metadata": {
        "colab": {
          "base_uri": "https://localhost:8080/"
        },
        "id": "I_Kte8wE16Ey",
        "outputId": "1cce0ae1-17fa-421d-98cd-52385dab3c5e"
      },
      "execution_count": 258,
      "outputs": [
        {
          "output_type": "execute_result",
          "data": {
            "text/plain": [
              "((614, 11), (614, 1))"
            ]
          },
          "metadata": {},
          "execution_count": 258
        }
      ]
    },
    {
      "cell_type": "code",
      "source": [
        "inputs_array"
      ],
      "metadata": {
        "colab": {
          "base_uri": "https://localhost:8080/"
        },
        "id": "_uGvnEjq5Km8",
        "outputId": "2f6d6d37-90af-448a-f09a-000d3e7aab2a"
      },
      "execution_count": 259,
      "outputs": [
        {
          "output_type": "execute_result",
          "data": {
            "text/plain": [
              "array([[ 0.48254934, -1.31421482, -0.69281133, ...,  0.54051363,\n",
              "         1.22230181,  0.67396981],\n",
              "       [ 0.48254934,  0.72864062,  0.26960079, ...,  0.54051363,\n",
              "        -1.31743867, -1.48132947],\n",
              "       [ 0.48254934,  0.72864062, -0.69281133, ...,  0.54051363,\n",
              "         1.22230181,  0.67396981],\n",
              "       ...,\n",
              "       [ 0.48254934,  0.72864062,  0.26960079, ...,  0.54051363,\n",
              "         1.22230181,  0.67396981],\n",
              "       [ 0.48254934,  0.72864062,  1.23201291, ...,  0.54051363,\n",
              "         1.22230181,  0.67396981],\n",
              "       [-1.66444554, -1.31421482, -0.69281133, ..., -1.84707894,\n",
              "        -0.04756843, -1.48132947]])"
            ]
          },
          "metadata": {},
          "execution_count": 259
        }
      ]
    },
    {
      "cell_type": "code",
      "source": [
        "num_rows = dataframe1.shape[0]\n",
        "print(num_rows)"
      ],
      "metadata": {
        "colab": {
          "base_uri": "https://localhost:8080/"
        },
        "id": "pO5Vj1lr5Nm5",
        "outputId": "95d2bc1d-87bd-48a0-e51d-4f3ea91524b4"
      },
      "execution_count": 260,
      "outputs": [
        {
          "output_type": "stream",
          "name": "stdout",
          "text": [
            "614\n"
          ]
        }
      ]
    },
    {
      "cell_type": "code",
      "source": [
        "inputs = torch.from_numpy(inputs_array).float() \n",
        "targets = torch.from_numpy(targets_array).float()"
      ],
      "metadata": {
        "id": "9m0vMXUT5OUy"
      },
      "execution_count": 261,
      "outputs": []
    },
    {
      "cell_type": "code",
      "source": [
        "inputs.dtype, targets.dtype"
      ],
      "metadata": {
        "colab": {
          "base_uri": "https://localhost:8080/"
        },
        "id": "SU4fPqqD5Qy2",
        "outputId": "ff1bb67b-c106-43c6-acb7-9904a318c1d5"
      },
      "execution_count": 262,
      "outputs": [
        {
          "output_type": "execute_result",
          "data": {
            "text/plain": [
              "(torch.float32, torch.float32)"
            ]
          },
          "metadata": {},
          "execution_count": 262
        }
      ]
    },
    {
      "cell_type": "code",
      "source": [
        "inputs.size(), targets.size()"
      ],
      "metadata": {
        "colab": {
          "base_uri": "https://localhost:8080/"
        },
        "id": "yRbmjyCi5TgK",
        "outputId": "a1b27399-e276-46e2-b4d8-1000ddc2207a"
      },
      "execution_count": 263,
      "outputs": [
        {
          "output_type": "execute_result",
          "data": {
            "text/plain": [
              "(torch.Size([614, 11]), torch.Size([614, 1]))"
            ]
          },
          "metadata": {},
          "execution_count": 263
        }
      ]
    },
    {
      "cell_type": "code",
      "source": [
        "dataset = TensorDataset(inputs, targets)"
      ],
      "metadata": {
        "id": "8VeYrMZk5WM2"
      },
      "execution_count": 264,
      "outputs": []
    },
    {
      "cell_type": "code",
      "source": [
        "val_percent = 0.15 # between 0.1 and 0.2\n",
        "val_size = int(num_rows * val_percent)\n",
        "train_size = num_rows - val_size\n",
        "\n",
        "train_ds, val_ds = random_split(dataset, [train_size, val_size]) # Use the random_split function to split dataset into 2 parts of the desired length\n",
        "len(train_ds), len(val_ds)"
      ],
      "metadata": {
        "colab": {
          "base_uri": "https://localhost:8080/"
        },
        "id": "hJcpPiUO5Y5u",
        "outputId": "e879ae91-7a14-448d-8e17-54af6fda4fea"
      },
      "execution_count": 265,
      "outputs": [
        {
          "output_type": "execute_result",
          "data": {
            "text/plain": [
              "(522, 92)"
            ]
          },
          "metadata": {},
          "execution_count": 265
        }
      ]
    },
    {
      "cell_type": "code",
      "source": [
        "batch_size = 11"
      ],
      "metadata": {
        "id": "rJeEw5ja5b_q"
      },
      "execution_count": 266,
      "outputs": []
    },
    {
      "cell_type": "code",
      "source": [
        "train_loader = DataLoader(train_ds, batch_size, shuffle=True)\n",
        "val_loader = DataLoader(val_ds, batch_size)\n",
        "print(len(train_ds), len(val_ds))"
      ],
      "metadata": {
        "colab": {
          "base_uri": "https://localhost:8080/"
        },
        "id": "T3TOeG3c5f4u",
        "outputId": "cc1758af-b442-454d-e0bb-32d9b0d7bbdc"
      },
      "execution_count": 267,
      "outputs": [
        {
          "output_type": "stream",
          "name": "stdout",
          "text": [
            "522 92\n"
          ]
        }
      ]
    },
    {
      "cell_type": "code",
      "source": [
        "print(len(input_col))"
      ],
      "metadata": {
        "colab": {
          "base_uri": "https://localhost:8080/"
        },
        "id": "ykBByKd85ijU",
        "outputId": "d6befee1-a6c0-4dca-e4d6-2f4bca84ef9e"
      },
      "execution_count": 268,
      "outputs": [
        {
          "output_type": "stream",
          "name": "stdout",
          "text": [
            "11\n"
          ]
        }
      ]
    },
    {
      "cell_type": "markdown",
      "source": [
        "## **Create a Linear Regression Model**"
      ],
      "metadata": {
        "id": "72uslaPN5vpF"
      }
    },
    {
      "cell_type": "code",
      "source": [
        "class LoanModel(nn.Module):\n",
        "    def __init__(self):\n",
        "        super().__init__()\n",
        "        self.linear = nn.Linear(11, 1)                  # fill this (hint: use input_size & output_size defined above)\n",
        "        \n",
        "    def forward(self, xb):\n",
        "        out = self.linear(xb)                          # fill this\n",
        "        return out\n",
        "    \n",
        "    def training_step(self, batch):\n",
        "        inputs, targets = batch \n",
        "        # Generate predictions\n",
        "        out = self(inputs)          \n",
        "        # Calcuate loss\n",
        "        loss = F.l1_loss(out, targets)                        # fill this\n",
        "        return loss\n",
        "    \n",
        "    def validation_step(self, batch):\n",
        "        inputs, targets = batch\n",
        "        # Generate predictions\n",
        "        out = self(inputs)\n",
        "        # Calculate loss\n",
        "        loss = F.l1_loss(out, targets)                        # fill this\n",
        "        return {'val_loss': loss}\n",
        "        \n",
        "    def validation_epoch_end(self, outputs):\n",
        "        batch_losses = [x['val_loss'] for x in outputs]\n",
        "        epoch_loss = torch.stack(batch_losses).mean()   # Combine losses\n",
        "        return {'val_loss': epoch_loss.item()}\n",
        "    \n",
        "    def epoch_end(self, epoch, result, num_epochs):\n",
        "        # Print result every 20th epoch\n",
        "        if (epoch+1) % 20 == 0 or epoch == num_epochs-1:\n",
        "            print(\"Epoch [{}], val_loss: {:.4f}\".format(epoch+1, result['val_loss']))\n"
      ],
      "metadata": {
        "id": "2gMrx49S573h"
      },
      "execution_count": 269,
      "outputs": []
    },
    {
      "cell_type": "code",
      "source": [
        "model = LoanModel()\n",
        "model"
      ],
      "metadata": {
        "colab": {
          "base_uri": "https://localhost:8080/"
        },
        "id": "1XhYoG3Y6NIt",
        "outputId": "29725148-bba2-4d18-ca07-f7fcbb13ccd1"
      },
      "execution_count": 270,
      "outputs": [
        {
          "output_type": "execute_result",
          "data": {
            "text/plain": [
              "LoanModel(\n",
              "  (linear): Linear(in_features=11, out_features=1, bias=True)\n",
              ")"
            ]
          },
          "metadata": {},
          "execution_count": 270
        }
      ]
    },
    {
      "cell_type": "code",
      "source": [
        "list(model.parameters())"
      ],
      "metadata": {
        "colab": {
          "base_uri": "https://localhost:8080/"
        },
        "id": "wWSV5sqi6N6-",
        "outputId": "f2b54cbf-26d8-473a-cfd3-6f427747ee56"
      },
      "execution_count": 271,
      "outputs": [
        {
          "output_type": "execute_result",
          "data": {
            "text/plain": [
              "[Parameter containing:\n",
              " tensor([[ 0.1322,  0.0314, -0.2122, -0.0797,  0.1955, -0.2884,  0.2855,  0.0100,\n",
              "           0.0480,  0.0703, -0.0035]], requires_grad=True),\n",
              " Parameter containing:\n",
              " tensor([-0.0885], requires_grad=True)]"
            ]
          },
          "metadata": {},
          "execution_count": 271
        }
      ]
    },
    {
      "cell_type": "markdown",
      "source": [
        "# **Train the model to fit the data**"
      ],
      "metadata": {
        "id": "4Mkl1HK36SHQ"
      }
    },
    {
      "cell_type": "code",
      "source": [
        "def evaluate(model, val_loader):\n",
        "    outputs = [model.validation_step(batch) for batch in val_loader]\n",
        "    return model.validation_epoch_end(outputs)\n",
        "\n",
        "def fit(epochs, lr, model, train_loader, val_loader, opt_func=torch.optim.SGD):\n",
        "    history = []\n",
        "    optimizer = opt_func(model.parameters(), lr)\n",
        "    for epoch in range(epochs):\n",
        "        # Training Phase \n",
        "        for batch in train_loader:\n",
        "            loss = model.training_step(batch)\n",
        "            loss.backward()\n",
        "            optimizer.step()\n",
        "            optimizer.zero_grad()\n",
        "        # Validation phase\n",
        "        result = evaluate(model, val_loader)\n",
        "        model.epoch_end(epoch, result, epochs)\n",
        "        history.append(result)\n",
        "    return history"
      ],
      "metadata": {
        "id": "4rA9-sUi6QLX"
      },
      "execution_count": 272,
      "outputs": []
    },
    {
      "cell_type": "code",
      "source": [
        "result = evaluate(model, val_loader) # Use the the evaluate function\n",
        "result"
      ],
      "metadata": {
        "colab": {
          "base_uri": "https://localhost:8080/"
        },
        "id": "4g2AKDZR6aru",
        "outputId": "c8441238-af0d-4daa-d5dd-b6df6ca3f6c2"
      },
      "execution_count": 273,
      "outputs": [
        {
          "output_type": "execute_result",
          "data": {
            "text/plain": [
              "{'val_loss': 143.00225830078125}"
            ]
          },
          "metadata": {},
          "execution_count": 273
        }
      ]
    },
    {
      "cell_type": "code",
      "source": [
        "epochs = 125\n",
        "lr = 1e-1\n",
        "history0 = fit(epochs, lr, model, train_loader, val_loader)"
      ],
      "metadata": {
        "colab": {
          "base_uri": "https://localhost:8080/"
        },
        "id": "sV9c3cnP8DoP",
        "outputId": "cf0006e8-c834-497f-b272-8a6049b9818e"
      },
      "execution_count": 274,
      "outputs": [
        {
          "output_type": "stream",
          "name": "stdout",
          "text": [
            "Epoch [20], val_loss: 69.6062\n",
            "Epoch [40], val_loss: 45.4639\n",
            "Epoch [60], val_loss: 42.6730\n",
            "Epoch [80], val_loss: 42.6557\n",
            "Epoch [100], val_loss: 43.3984\n",
            "Epoch [120], val_loss: 44.4399\n",
            "Epoch [125], val_loss: 44.7119\n"
          ]
        }
      ]
    },
    {
      "cell_type": "code",
      "source": [
        "epochs = 25\n",
        "lr = 1e-2\n",
        "history1 = fit(epochs, lr, model, train_loader, val_loader)"
      ],
      "metadata": {
        "colab": {
          "base_uri": "https://localhost:8080/"
        },
        "id": "Ft8MjSIX6g5i",
        "outputId": "4698ff7d-c101-4d48-b191-516b5b424cad"
      },
      "execution_count": 275,
      "outputs": [
        {
          "output_type": "stream",
          "name": "stdout",
          "text": [
            "Epoch [20], val_loss: 44.7864\n",
            "Epoch [25], val_loss: 44.8051\n"
          ]
        }
      ]
    },
    {
      "cell_type": "code",
      "source": [
        "epochs = 25\n",
        "lr = 1e-3\n",
        "history2 = fit(epochs, lr, model, train_loader, val_loader)"
      ],
      "metadata": {
        "colab": {
          "base_uri": "https://localhost:8080/"
        },
        "id": "yoEbhCM46jMF",
        "outputId": "de9b317f-6273-48c8-9645-bc32e557b687"
      },
      "execution_count": 276,
      "outputs": [
        {
          "output_type": "stream",
          "name": "stdout",
          "text": [
            "Epoch [20], val_loss: 44.8130\n",
            "Epoch [25], val_loss: 44.8152\n"
          ]
        }
      ]
    },
    {
      "cell_type": "code",
      "source": [
        "epochs = 100\n",
        "lr = 1e-4\n",
        "history3 = fit(epochs, lr, model, train_loader, val_loader)"
      ],
      "metadata": {
        "colab": {
          "base_uri": "https://localhost:8080/"
        },
        "id": "jIrn8_UY6pYP",
        "outputId": "ec2f59be-e301-481a-9cac-6767193b46c8"
      },
      "execution_count": 277,
      "outputs": [
        {
          "output_type": "stream",
          "name": "stdout",
          "text": [
            "Epoch [20], val_loss: 44.8159\n",
            "Epoch [40], val_loss: 44.8168\n",
            "Epoch [60], val_loss: 44.8177\n",
            "Epoch [80], val_loss: 44.8185\n",
            "Epoch [100], val_loss: 44.8193\n"
          ]
        }
      ]
    },
    {
      "cell_type": "code",
      "source": [
        "epochs = 100\n",
        "lr = 1e-5\n",
        "history4 = fit(epochs, lr, model, train_loader, val_loader)"
      ],
      "metadata": {
        "colab": {
          "base_uri": "https://localhost:8080/"
        },
        "id": "eJQdhyZ27PEZ",
        "outputId": "c6b5fbb8-b709-472b-f091-0533d64bada0"
      },
      "execution_count": 278,
      "outputs": [
        {
          "output_type": "stream",
          "name": "stdout",
          "text": [
            "Epoch [20], val_loss: 44.8194\n",
            "Epoch [40], val_loss: 44.8194\n",
            "Epoch [60], val_loss: 44.8195\n",
            "Epoch [80], val_loss: 44.8196\n",
            "Epoch [100], val_loss: 44.8196\n"
          ]
        }
      ]
    },
    {
      "cell_type": "code",
      "source": [
        "epochs = 200\n",
        "lr = 1e-6\n",
        "history5 = fit(epochs, lr, model, train_loader, val_loader)"
      ],
      "metadata": {
        "colab": {
          "base_uri": "https://localhost:8080/"
        },
        "id": "Bb_OaOQU6r17",
        "outputId": "64092477-edf6-4eae-d89e-4858eca1f05d"
      },
      "execution_count": 279,
      "outputs": [
        {
          "output_type": "stream",
          "name": "stdout",
          "text": [
            "Epoch [20], val_loss: 44.8196\n",
            "Epoch [40], val_loss: 44.8196\n",
            "Epoch [60], val_loss: 44.8196\n",
            "Epoch [80], val_loss: 44.8197\n",
            "Epoch [100], val_loss: 44.8197\n",
            "Epoch [120], val_loss: 44.8197\n",
            "Epoch [140], val_loss: 44.8197\n",
            "Epoch [160], val_loss: 44.8197\n",
            "Epoch [180], val_loss: 44.8197\n",
            "Epoch [200], val_loss: 44.8197\n"
          ]
        }
      ]
    },
    {
      "cell_type": "code",
      "source": [
        "epochs = 200\n",
        "lr = 1e-7\n",
        "history6 = fit(epochs, lr, model, train_loader, val_loader)"
      ],
      "metadata": {
        "colab": {
          "base_uri": "https://localhost:8080/"
        },
        "id": "3aceQkzU69vV",
        "outputId": "f02f06bc-69bf-403f-9cf0-0dc90dd3c2ea"
      },
      "execution_count": 280,
      "outputs": [
        {
          "output_type": "stream",
          "name": "stdout",
          "text": [
            "Epoch [20], val_loss: 44.8197\n",
            "Epoch [40], val_loss: 44.8197\n",
            "Epoch [60], val_loss: 44.8197\n",
            "Epoch [80], val_loss: 44.8197\n",
            "Epoch [100], val_loss: 44.8197\n",
            "Epoch [120], val_loss: 44.8197\n",
            "Epoch [140], val_loss: 44.8197\n",
            "Epoch [160], val_loss: 44.8197\n",
            "Epoch [180], val_loss: 44.8197\n",
            "Epoch [200], val_loss: 44.8197\n"
          ]
        }
      ]
    },
    {
      "cell_type": "code",
      "source": [
        "epochs = 400\n",
        "lr = 1e-8\n",
        "history7 = fit(epochs, lr, model, train_loader, val_loader)"
      ],
      "metadata": {
        "colab": {
          "base_uri": "https://localhost:8080/"
        },
        "id": "LbkYKxZi7DA_",
        "outputId": "40665275-0aa1-406e-d4e6-0deb1386c118"
      },
      "execution_count": 281,
      "outputs": [
        {
          "output_type": "stream",
          "name": "stdout",
          "text": [
            "Epoch [20], val_loss: 44.8197\n",
            "Epoch [40], val_loss: 44.8197\n",
            "Epoch [60], val_loss: 44.8197\n",
            "Epoch [80], val_loss: 44.8197\n",
            "Epoch [100], val_loss: 44.8197\n",
            "Epoch [120], val_loss: 44.8197\n",
            "Epoch [140], val_loss: 44.8197\n",
            "Epoch [160], val_loss: 44.8197\n",
            "Epoch [180], val_loss: 44.8197\n",
            "Epoch [200], val_loss: 44.8197\n",
            "Epoch [220], val_loss: 44.8197\n",
            "Epoch [240], val_loss: 44.8197\n",
            "Epoch [260], val_loss: 44.8197\n",
            "Epoch [280], val_loss: 44.8197\n",
            "Epoch [300], val_loss: 44.8197\n",
            "Epoch [320], val_loss: 44.8197\n",
            "Epoch [340], val_loss: 44.8197\n",
            "Epoch [360], val_loss: 44.8197\n",
            "Epoch [380], val_loss: 44.8197\n",
            "Epoch [400], val_loss: 44.8197\n"
          ]
        }
      ]
    },
    {
      "cell_type": "code",
      "source": [
        "epochs = 400\n",
        "lr = 1e-9\n",
        "history8 = fit(epochs, lr, model, train_loader, val_loader)"
      ],
      "metadata": {
        "colab": {
          "base_uri": "https://localhost:8080/"
        },
        "id": "GxibATd47EPV",
        "outputId": "80530c68-c6d8-4ad5-ef51-3fb00583bd8e"
      },
      "execution_count": 282,
      "outputs": [
        {
          "output_type": "stream",
          "name": "stdout",
          "text": [
            "Epoch [20], val_loss: 44.8197\n",
            "Epoch [40], val_loss: 44.8197\n",
            "Epoch [60], val_loss: 44.8197\n",
            "Epoch [80], val_loss: 44.8197\n",
            "Epoch [100], val_loss: 44.8197\n",
            "Epoch [120], val_loss: 44.8197\n",
            "Epoch [140], val_loss: 44.8197\n",
            "Epoch [160], val_loss: 44.8197\n",
            "Epoch [180], val_loss: 44.8197\n",
            "Epoch [200], val_loss: 44.8197\n",
            "Epoch [220], val_loss: 44.8197\n",
            "Epoch [240], val_loss: 44.8197\n",
            "Epoch [260], val_loss: 44.8197\n",
            "Epoch [280], val_loss: 44.8197\n",
            "Epoch [300], val_loss: 44.8197\n",
            "Epoch [320], val_loss: 44.8197\n",
            "Epoch [340], val_loss: 44.8197\n",
            "Epoch [360], val_loss: 44.8197\n",
            "Epoch [380], val_loss: 44.8197\n",
            "Epoch [400], val_loss: 44.8197\n"
          ]
        }
      ]
    },
    {
      "cell_type": "code",
      "source": [
        "history = history0 + history1 + history2 + history3 + history4 + history5 + history6 + history7 + history8\n",
        "loss = [result['val_loss'] for result in history]\n",
        "plt.plot(loss, '-x')\n",
        "plt.xlabel('epochs')\n",
        "plt.ylabel('loss')\n",
        "plt.title('Loss vs. No. of epochs');"
      ],
      "metadata": {
        "colab": {
          "base_uri": "https://localhost:8080/",
          "height": 295
        },
        "id": "bMr2OlUX7mhZ",
        "outputId": "009a5950-f93a-4128-efc2-46b7218de761"
      },
      "execution_count": 283,
      "outputs": [
        {
          "output_type": "display_data",
          "data": {
            "text/plain": [
              "<Figure size 432x288 with 1 Axes>"
            ],
            "image/png": "[encoded data removed]"
          },
          "metadata": {
            "needs_background": "light"
          }
        }
      ]
    },
    {
      "cell_type": "code",
      "source": [
        "val_loss = 31.4945"
      ],
      "metadata": {
        "id": "xRqqfpXp8q3k"
      },
      "execution_count": 284,
      "outputs": []
    },
    {
      "cell_type": "markdown",
      "source": [
        "# **Make predictions using the trained model** "
      ],
      "metadata": {
        "id": "xFSqntPs8_Ox"
      }
    },
    {
      "cell_type": "code",
      "source": [
        "def predict_single(input, target, model):\n",
        "    inputs = input.unsqueeze(0)\n",
        "    predictions = model(inputs)                # fill this\n",
        "    prediction = predictions[0].detach()\n",
        "    print(\"Input:\", input)\n",
        "    print(\"Target:\", target)\n",
        "    print(\"Prediction:\", prediction)"
      ],
      "metadata": {
        "id": "ZT-6AFsI9FYf"
      },
      "execution_count": 285,
      "outputs": []
    },
    {
      "cell_type": "code",
      "source": [
        "input, target = val_ds[0]\n",
        "predict_single(input, target, model)"
      ],
      "metadata": {
        "colab": {
          "base_uri": "https://localhost:8080/"
        },
        "id": "lBko0NjV9Iuk",
        "outputId": "f5920c02-7a0d-4389-cdf0-36b4bf928308"
      },
      "execution_count": 286,
      "outputs": [
        {
          "output_type": "stream",
          "name": "stdout",
          "text": [
            "Input: tensor([ 0.4825,  0.7286,  1.2320,  1.8911, -0.1923, -0.5640, -0.0565, -0.4162,\n",
            "        -1.8471,  1.2223,  0.6740])\n",
            "Target: tensor([60.])\n",
            "Prediction: tensor([101.2626])\n"
          ]
        }
      ]
    },
    {
      "cell_type": "code",
      "source": [
        "input, target = val_ds[25]\n",
        "predict_single(input, target, model)"
      ],
      "metadata": {
        "colab": {
          "base_uri": "https://localhost:8080/"
        },
        "id": "kbAd0PYD9UGQ",
        "outputId": "882bb5a0-2ecf-4ee0-ef61-d49193600ba9"
      },
      "execution_count": 287,
      "outputs": [
        {
          "output_type": "stream",
          "name": "stdout",
          "text": [
            "Input: tensor([-1.6644, -1.3142,  0.2696,  1.8911, -0.1923, -0.1305, -0.5540,  0.3139,\n",
            "         0.5405, -1.3174, -1.4813])\n",
            "Target: tensor([81.])\n",
            "Prediction: tensor([109.6721])\n"
          ]
        }
      ]
    },
    {
      "cell_type": "code",
      "source": [
        "input, target = val_ds[32]\n",
        "predict_single(input, target, model)"
      ],
      "metadata": {
        "colab": {
          "base_uri": "https://localhost:8080/"
        },
        "id": "6I11l7bY9rAi",
        "outputId": "6997057b-af76-4916-fbeb-19e89f56baff"
      },
      "execution_count": 288,
      "outputs": [
        {
          "output_type": "stream",
          "name": "stdout",
          "text": [
            "Input: tensor([ 0.4825,  0.7286,  0.2696, -0.5279,  2.1691, -0.7208,  0.4787,  0.3139,\n",
            "         0.5405,  1.2223, -1.4813])\n",
            "Target: tensor([110.])\n",
            "Prediction: tensor([108.3915])\n"
          ]
        }
      ]
    },
    {
      "cell_type": "markdown",
      "source": [
        "# **More Regression models**\n",
        "\n"
      ],
      "metadata": {
        "id": "EHid_JS18EUd"
      }
    },
    {
      "cell_type": "markdown",
      "source": [
        "## **Random Forest Regression**"
      ],
      "metadata": {
        "id": "Kmi719F2MLHI"
      }
    },
    {
      "cell_type": "code",
      "source": [
        "data = []  # initialize a array to store the trained data \n",
        "Random_Forest = RandomForestRegressor() #creating the instances of RandomForest Regressor\n",
        "#Random_Forest.fit(X_train.values,y_train.values)# it will train the model. Which can be used in predict() with a single arguement\n",
        "Random_Forest.fit(X_train,y_train.ravel())"
      ],
      "metadata": {
        "colab": {
          "base_uri": "https://localhost:8080/"
        },
        "id": "x0JUR6hB8NSo",
        "outputId": "9d29479e-be7a-45a0-addb-d5268f30ff54"
      },
      "execution_count": 332,
      "outputs": [
        {
          "output_type": "execute_result",
          "data": {
            "text/plain": [
              "RandomForestRegressor()"
            ]
          },
          "metadata": {},
          "execution_count": 332
        }
      ]
    },
    {
      "cell_type": "code",
      "source": [
        "#y_predict = Random_Forest.predict(x_test.values)\n",
        "y_predict = Random_Forest.predict(X_train)\n",
        "y_predict"
      ],
      "metadata": {
        "colab": {
          "base_uri": "https://localhost:8080/"
        },
        "id": "tTe00H7e9NKw",
        "outputId": "47327e24-dffa-4749-a86c-ec9987134c23"
      },
      "execution_count": 333,
      "outputs": [
        {
          "output_type": "execute_result",
          "data": {
            "text/plain": [
              "array([0.91, 1.  , 0.09, 0.1 , 1.  , 0.9 , 0.92, 0.7 , 0.38, 0.85, 0.79,\n",
              "       0.88, 0.96, 0.28, 1.  , 0.14, 0.73, 0.29, 0.64, 0.83, 0.28, 0.78,\n",
              "       0.98, 0.34, 0.92, 0.23, 0.71, 0.78, 0.1 , 0.07, 0.92, 0.97, 0.97,\n",
              "       0.22, 0.85, 0.98, 0.23, 0.25, 0.98, 0.15, 0.17, 0.84, 0.94, 0.4 ,\n",
              "       0.92, 0.91, 0.97, 0.31, 0.75, 0.44, 0.85, 0.05, 0.93, 0.9 , 0.96,\n",
              "       0.81, 0.02, 0.94, 0.92, 0.14, 1.  , 0.24, 0.31, 0.99, 0.97, 0.09,\n",
              "       1.  , 0.87, 0.01, 0.82, 0.92, 0.11, 0.99, 0.98, 1.  , 0.87, 0.93,\n",
              "       0.28, 0.95, 0.7 , 0.94, 0.92, 0.22, 0.94, 0.97, 0.91, 0.07, 1.  ,\n",
              "       0.07, 0.96, 0.79, 0.34, 0.1 , 0.96, 0.99, 0.23, 0.92, 0.96, 0.99,\n",
              "       0.99, 0.27, 0.96, 0.74, 0.17, 0.98, 0.82, 0.95, 0.94, 0.95, 0.32,\n",
              "       0.14, 0.93, 0.94, 0.1 , 0.93, 0.88, 0.78, 0.93, 0.85, 0.24, 0.88,\n",
              "       0.89, 0.9 , 0.98, 0.07, 0.32, 0.96, 0.3 , 0.99, 0.08, 0.96, 0.82,\n",
              "       0.67, 0.98, 1.  , 0.91, 1.  , 0.95, 0.92, 0.57, 0.91, 1.  , 0.74,\n",
              "       0.97, 0.99, 0.84, 0.98, 1.  , 0.96, 0.84, 0.65, 0.33, 0.94, 0.94,\n",
              "       1.  , 0.87, 0.97, 0.72, 0.12, 0.17, 0.41, 0.27, 0.29, 0.17, 0.88,\n",
              "       0.88, 0.27, 0.73, 0.88, 0.3 , 1.  , 0.33, 0.13, 0.16, 0.3 , 0.89,\n",
              "       0.88, 0.34, 0.26, 0.99, 0.99, 0.89, 0.18, 0.83, 0.27, 0.88, 0.81,\n",
              "       0.91, 0.92, 0.95, 0.98, 0.81, 0.94, 0.82, 0.7 , 0.15, 0.98, 0.17,\n",
              "       0.92, 0.28, 0.83, 0.3 , 0.83, 0.95, 0.16, 0.11, 0.89, 0.93, 0.94,\n",
              "       0.88, 0.96, 0.92, 0.1 , 0.84, 0.24, 0.32, 0.95, 0.93, 0.82, 0.17,\n",
              "       0.17, 0.19, 0.89, 0.81, 0.91, 0.88, 0.14, 0.07, 0.99, 0.88, 0.93,\n",
              "       0.69, 0.95, 0.97, 0.92, 0.95, 0.23, 0.97, 0.76, 0.93, 0.97, 0.16,\n",
              "       0.97, 0.96, 0.15, 0.19, 0.85, 0.83, 0.26, 0.98, 0.15, 0.1 , 0.06,\n",
              "       0.96, 0.92, 0.35, 0.9 , 0.63, 0.14, 0.92, 0.98, 0.88, 0.86, 1.  ,\n",
              "       1.  , 0.79, 0.82, 0.19, 0.91, 0.11, 0.93, 0.88, 0.96, 0.23, 0.85,\n",
              "       0.17, 0.91, 0.92, 0.99, 0.84, 0.66, 0.88, 0.95, 0.19, 0.89, 0.23,\n",
              "       0.98, 0.02, 0.95, 0.96, 0.92, 0.95, 0.98, 0.98, 0.28, 0.86, 0.96,\n",
              "       0.3 , 0.75, 0.96, 0.17, 0.99, 0.1 , 0.82, 0.06, 1.  , 0.88, 0.77,\n",
              "       0.95, 0.96, 0.89, 0.98, 0.93, 0.73, 0.11, 0.16, 0.21, 1.  , 0.97,\n",
              "       0.98, 0.81, 0.02, 0.94, 0.99, 0.85, 0.92, 0.87, 0.99, 0.84, 0.66,\n",
              "       0.16, 0.94, 0.87, 0.21, 0.89, 0.26, 0.08, 0.27, 0.89, 0.99, 0.96,\n",
              "       0.98, 0.19, 0.89, 0.09, 0.24, 0.98, 0.17, 0.97, 0.98, 0.28, 0.31,\n",
              "       0.67, 0.27, 0.93, 0.99, 0.24, 0.83, 0.13, 0.1 , 0.31, 0.96, 0.97,\n",
              "       0.88, 0.94, 0.98, 0.28, 0.77, 0.99, 0.96, 0.94, 0.91, 0.98, 0.35,\n",
              "       0.17, 0.85, 0.89, 0.35, 0.22, 0.85, 0.65, 0.93, 0.77, 0.83, 0.07,\n",
              "       0.79, 0.86, 0.88, 0.97, 0.2 , 0.8 , 0.97, 0.05, 0.08, 0.87, 0.83,\n",
              "       0.95, 1.  , 0.09, 1.  , 0.95, 0.27, 0.84, 0.84, 0.37, 0.83, 0.93,\n",
              "       0.87, 0.32, 0.12, 0.88, 0.86, 0.21, 0.34, 0.97, 0.89, 0.81, 0.98,\n",
              "       0.97, 0.94, 0.98, 0.22, 0.05, 0.77, 0.92, 0.31, 0.96, 0.97, 0.86,\n",
              "       0.32, 0.4 , 1.  , 0.81, 0.2 , 0.9 , 0.44, 0.16, 0.96, 0.95, 0.96,\n",
              "       0.95, 1.  , 0.99, 0.97, 0.08, 0.23, 0.84, 0.86, 0.89, 0.98, 0.83,\n",
              "       0.02, 0.79, 0.12, 0.18, 0.97, 1.  , 0.98, 0.81, 1.  , 0.74, 0.81,\n",
              "       1.  , 0.98, 0.96, 0.3 , 0.9 , 1.  , 0.65, 0.89, 0.98, 0.31, 0.16,\n",
              "       0.8 , 0.72, 0.87, 0.13, 1.  , 0.81, 0.41, 0.06, 0.28, 0.95, 0.74,\n",
              "       0.35, 0.73, 0.98, 0.95, 1.  , 0.99, 0.93])"
            ]
          },
          "metadata": {},
          "execution_count": 333
        }
      ]
    },
    {
      "cell_type": "markdown",
      "source": [
        "mean square eroor"
      ],
      "metadata": {
        "id": "BMJ5TcF_D7PS"
      }
    },
    {
      "cell_type": "code",
      "source": [
        "from sklearn.metrics  import  mean_squared_error\n",
        "mean_squared_error(y_train, y_predict)"
      ],
      "metadata": {
        "colab": {
          "base_uri": "https://localhost:8080/"
        },
        "id": "08xR4YUx_h1U",
        "outputId": "175916d3-6535-4df5-d4ca-0a877d2b75a0"
      },
      "execution_count": 334,
      "outputs": [
        {
          "output_type": "execute_result",
          "data": {
            "text/plain": [
              "0.028095926680244403"
            ]
          },
          "metadata": {},
          "execution_count": 334
        }
      ]
    },
    {
      "cell_type": "code",
      "source": [
        "np.sqrt(mean_squared_error(y_train, y_predict))"
      ],
      "metadata": {
        "colab": {
          "base_uri": "https://localhost:8080/"
        },
        "id": "8unjCxWd_oBX",
        "outputId": "274846a1-1c7b-45ab-e530-3153b314f844"
      },
      "execution_count": 335,
      "outputs": [
        {
          "output_type": "execute_result",
          "data": {
            "text/plain": [
              "0.16761839600784995"
            ]
          },
          "metadata": {},
          "execution_count": 335
        }
      ]
    },
    {
      "cell_type": "markdown",
      "source": [
        "## **Decision tree regression**"
      ],
      "metadata": {
        "id": "kcFleyIlBLjO"
      }
    },
    {
      "cell_type": "code",
      "source": [
        "from sklearn.tree import DecisionTreeRegressor \n",
        "Decision_tree = DecisionTreeRegressor(random_state = 0)\n",
        "Decision_tree.fit(X_train,y_train.ravel())"
      ],
      "metadata": {
        "colab": {
          "base_uri": "https://localhost:8080/"
        },
        "id": "eROkYe4CBVER",
        "outputId": "782bdb50-d5ca-4737-cdaf-566893f053c9"
      },
      "execution_count": 336,
      "outputs": [
        {
          "output_type": "execute_result",
          "data": {
            "text/plain": [
              "DecisionTreeRegressor(random_state=0)"
            ]
          },
          "metadata": {},
          "execution_count": 336
        }
      ]
    },
    {
      "cell_type": "code",
      "source": [
        "dec_predict =Decision_tree.predict(X_train)\n",
        "dec_predict"
      ],
      "metadata": {
        "colab": {
          "base_uri": "https://localhost:8080/"
        },
        "id": "aGVnY_DnBopD",
        "outputId": "8cab0b8f-cdcb-4881-f0cf-92511d919397"
      },
      "execution_count": 337,
      "outputs": [
        {
          "output_type": "execute_result",
          "data": {
            "text/plain": [
              "array([1., 1., 0., 0., 1., 1., 1., 1., 0., 1., 1., 1., 1., 0., 1., 0., 1.,\n",
              "       0., 1., 1., 0., 1., 1., 0., 1., 0., 1., 1., 0., 0., 1., 1., 1., 0.,\n",
              "       1., 1., 0., 0., 1., 0., 0., 1., 1., 0., 1., 1., 1., 0., 1., 0., 1.,\n",
              "       0., 1., 1., 1., 1., 0., 1., 1., 0., 1., 0., 0., 1., 1., 0., 1., 1.,\n",
              "       0., 1., 1., 0., 1., 1., 1., 1., 1., 0., 1., 1., 1., 1., 0., 1., 1.,\n",
              "       1., 0., 1., 0., 1., 1., 0., 0., 1., 1., 0., 1., 1., 1., 1., 0., 1.,\n",
              "       1., 0., 1., 1., 1., 1., 1., 0., 0., 1., 1., 0., 1., 1., 1., 1., 1.,\n",
              "       0., 1., 1., 1., 1., 0., 0., 1., 0., 1., 0., 1., 1., 1., 1., 1., 1.,\n",
              "       1., 1., 1., 1., 1., 1., 1., 1., 1., 1., 1., 1., 1., 1., 1., 0., 1.,\n",
              "       1., 1., 1., 1., 1., 0., 0., 0., 0., 0., 0., 1., 1., 0., 1., 1., 0.,\n",
              "       1., 0., 0., 0., 0., 1., 1., 0., 0., 1., 1., 1., 0., 1., 0., 1., 1.,\n",
              "       1., 1., 1., 1., 1., 1., 1., 1., 0., 1., 0., 1., 0., 1., 0., 1., 1.,\n",
              "       0., 0., 1., 1., 1., 1., 1., 1., 0., 1., 0., 0., 1., 1., 1., 0., 0.,\n",
              "       0., 1., 1., 1., 1., 0., 0., 1., 1., 1., 1., 1., 1., 1., 1., 0., 1.,\n",
              "       1., 1., 1., 0., 1., 1., 0., 0., 1., 1., 0., 1., 0., 0., 0., 1., 1.,\n",
              "       0., 1., 1., 0., 1., 1., 1., 1., 1., 1., 1., 1., 0., 1., 0., 1., 1.,\n",
              "       1., 0., 1., 0., 1., 1., 1., 1., 1., 1., 1., 0., 1., 0., 1., 0., 1.,\n",
              "       1., 1., 1., 1., 1., 0., 1., 1., 0., 1., 1., 0., 1., 0., 1., 0., 1.,\n",
              "       1., 1., 1., 1., 1., 1., 1., 1., 0., 0., 0., 1., 1., 1., 1., 0., 1.,\n",
              "       1., 1., 1., 1., 1., 1., 1., 0., 1., 1., 0., 1., 0., 0., 0., 1., 1.,\n",
              "       1., 1., 0., 1., 0., 0., 1., 0., 1., 1., 0., 0., 1., 0., 1., 1., 0.,\n",
              "       1., 0., 0., 0., 1., 1., 1., 1., 1., 0., 1., 1., 1., 1., 1., 1., 0.,\n",
              "       0., 1., 1., 0., 0., 1., 1., 1., 1., 1., 0., 1., 1., 1., 1., 0., 1.,\n",
              "       1., 0., 0., 1., 1., 1., 1., 0., 1., 1., 0., 1., 1., 0., 1., 1., 1.,\n",
              "       0., 0., 1., 1., 0., 0., 1., 1., 1., 1., 1., 1., 1., 0., 0., 1., 1.,\n",
              "       0., 1., 1., 1., 0., 0., 1., 1., 0., 1., 0., 0., 1., 1., 1., 1., 1.,\n",
              "       1., 1., 0., 0., 1., 1., 1., 1., 1., 0., 1., 0., 0., 1., 1., 1., 1.,\n",
              "       1., 1., 1., 1., 1., 1., 0., 1., 1., 1., 1., 1., 0., 0., 1., 1., 1.,\n",
              "       0., 1., 1., 0., 0., 0., 1., 1., 0., 1., 1., 1., 1., 1., 1.])"
            ]
          },
          "metadata": {},
          "execution_count": 337
        }
      ]
    },
    {
      "cell_type": "markdown",
      "source": [
        "mean square error"
      ],
      "metadata": {
        "id": "i6uIt27vB4q8"
      }
    },
    {
      "cell_type": "code",
      "source": [
        "from sklearn.metrics  import  mean_squared_error\n",
        "mean_squared_error(y_train, dec_predict)"
      ],
      "metadata": {
        "colab": {
          "base_uri": "https://localhost:8080/"
        },
        "id": "DFc7cRj4B4Qt",
        "outputId": "c9217f4a-1c86-4737-a047-490f7882a9c0"
      },
      "execution_count": 338,
      "outputs": [
        {
          "output_type": "execute_result",
          "data": {
            "text/plain": [
              "0.0"
            ]
          },
          "metadata": {},
          "execution_count": 338
        }
      ]
    },
    {
      "cell_type": "code",
      "source": [
        "np.sqrt(mean_squared_error(y_train, dec_predict))"
      ],
      "metadata": {
        "colab": {
          "base_uri": "https://localhost:8080/"
        },
        "id": "V-tE_MJNB-L0",
        "outputId": "34c810f5-7529-44d1-acf6-65ae887338a8"
      },
      "execution_count": 339,
      "outputs": [
        {
          "output_type": "execute_result",
          "data": {
            "text/plain": [
              "0.0"
            ]
          },
          "metadata": {},
          "execution_count": 339
        }
      ]
    },
    {
      "cell_type": "markdown",
      "source": [
        "## **SVM algorithm**"
      ],
      "metadata": {
        "id": "ip21eJdjCToi"
      }
    },
    {
      "cell_type": "code",
      "source": [
        "from sklearn.svm import SVR\n",
        "from sklearn.pipeline import make_pipeline \n",
        "from sklearn.preprocessing import StandardScaler\n",
        "svm = make_pipeline(StandardScaler(), SVR(C=1.0, epsilon=0.2))\n",
        "svm.fit(X_train,y_train.ravel())\n",
        "svm_predict=svm.predict(X_train)\n",
        "svm_predict"
      ],
      "metadata": {
        "colab": {
          "base_uri": "https://localhost:8080/"
        },
        "id": "KAPqzmbrCaiz",
        "outputId": "2d2228d5-85d9-43e9-dc19-68c3d10f3585"
      },
      "execution_count": 340,
      "outputs": [
        {
          "output_type": "execute_result",
          "data": {
            "text/plain": [
              "array([0.80006021, 0.87700515, 0.08678776, 0.19995756, 0.89858263,\n",
              "       0.74250752, 0.80029334, 0.24110468, 0.4144679 , 0.79988975,\n",
              "       0.80043774, 0.80026558, 0.80005651, 0.79909079, 0.79994254,\n",
              "       0.27094286, 0.79984216, 0.70071709, 0.45865973, 0.80020647,\n",
              "       0.44167067, 0.79994006, 0.81503746, 0.64857966, 1.01183647,\n",
              "       0.7799338 , 0.64778128, 0.80023443, 0.20698507, 0.13932841,\n",
              "       0.79534619, 0.80001512, 0.79979626, 0.57829878, 0.79969844,\n",
              "       0.87086634, 0.20204777, 0.19970873, 0.80021771, 0.19978533,\n",
              "       0.39598602, 0.79998676, 0.81206373, 0.71961186, 0.7387604 ,\n",
              "       0.60681763, 0.80562711, 0.77576725, 0.49439508, 0.80652081,\n",
              "       0.75606883, 0.20009282, 0.796465  , 0.85699686, 0.90332058,\n",
              "       0.55409009, 0.13099151, 0.93046741, 0.86029244, 0.43707237,\n",
              "       0.91135608, 0.75669841, 0.48361693, 0.90067886, 0.78265562,\n",
              "       0.0783204 , 0.86968575, 0.79998216, 0.20037983, 0.63430512,\n",
              "       0.80038391, 0.20019052, 0.90625623, 0.82114271, 0.82193785,\n",
              "       0.8220586 , 0.79989046, 0.27087386, 0.80010911, 0.79998525,\n",
              "       0.79974886, 0.80028593, 0.79968831, 0.79975923, 0.83049723,\n",
              "       0.79965064, 0.19991205, 0.81878301, 0.1470304 , 0.7997987 ,\n",
              "       0.80017573, 0.80351947, 0.18279812, 0.79968346, 0.79971132,\n",
              "       0.2349765 , 0.85553977, 0.79082097, 0.87018717, 0.81763128,\n",
              "       0.20015075, 0.74907785, 0.1997631 , 0.80513193, 0.79996587,\n",
              "       0.80018045, 0.82816505, 0.89948754, 0.98118937, 0.20188485,\n",
              "       0.20031992, 0.80009243, 0.79731509, 0.20028906, 0.66518846,\n",
              "       0.79966676, 0.74741159, 0.7864835 , 1.03775691, 0.19983445,\n",
              "       0.84164302, 0.79643897, 0.59138361, 0.78686257, 0.17042929,\n",
              "       0.50140675, 0.79973368, 0.41848233, 1.01608676, 0.19992827,\n",
              "       0.80987595, 0.80018965, 0.31988985, 0.88958019, 0.79558196,\n",
              "       0.80001119, 0.81061185, 0.9099435 , 0.79976354, 0.24242306,\n",
              "       0.8237659 , 0.79967402, 0.314718  , 0.79374349, 0.82627835,\n",
              "       0.80007166, 0.83699059, 0.83408653, 0.75910839, 0.79999162,\n",
              "       0.80029682, 0.46374425, 0.84167141, 0.83645988, 0.88412099,\n",
              "       0.80019374, 0.80000782, 0.2483794 , 0.19170786, 0.19995235,\n",
              "       0.84042395, 0.69055848, 0.76403292, 0.2004266 , 0.7997414 ,\n",
              "       0.80001347, 0.20010409, 0.79967016, 0.80019129, 0.87659252,\n",
              "       0.81787692, 0.78913599, 0.20406532, 0.20038651, 0.78794987,\n",
              "       0.80026587, 0.79983352, 0.80320182, 0.25120924, 0.82810312,\n",
              "       0.81296195, 0.7995923 , 0.6774049 , 0.88891872, 0.82089714,\n",
              "       0.79968736, 0.73537597, 0.79985716, 0.88202813, 0.80200979,\n",
              "       0.84194651, 0.80489463, 0.83290355, 0.79991064, 0.29975499,\n",
              "       0.20019964, 0.87728918, 0.19736606, 0.79977283, 0.54349587,\n",
              "       0.8086463 , 0.19985714, 0.80013653, 0.81552278, 0.2011585 ,\n",
              "       0.04153342, 0.80020388, 0.80684734, 0.79876028, 0.79991889,\n",
              "       0.81911721, 0.86290579, 0.21154502, 0.79065934, 0.79525385,\n",
              "       0.77254606, 0.79818603, 0.81177675, 0.79978824, 0.22393618,\n",
              "       0.28548787, 0.46710751, 0.93847887, 0.79993596, 0.79981014,\n",
              "       0.80041254, 0.20024207, 0.19991817, 0.88160931, 0.8138098 ,\n",
              "       0.99328969, 0.80002262, 0.91706816, 0.81982909, 0.81066048,\n",
              "       0.83279775, 0.32964708, 0.79958348, 0.79973681, 0.83328109,\n",
              "       0.79966706, 0.20894802, 0.79999239, 0.80029223, 0.76363854,\n",
              "       0.20038829, 0.77199154, 0.79950264, 0.33519899, 0.81339161,\n",
              "       0.78025192, 0.36479866, 0.17560337, 0.82940059, 0.8004187 ,\n",
              "       0.81751785, 0.77616639, 0.24002487, 0.19982035, 0.79988747,\n",
              "       0.82600267, 0.8851631 , 0.73902985, 0.81835314, 0.81213172,\n",
              "       0.22475248, 0.27311436, 0.15246366, 0.86422503, 0.40913911,\n",
              "       0.79975511, 0.85806582, 0.85838248, 0.59803007, 0.80000253,\n",
              "       0.122548  , 0.80044912, 0.8000289 , 0.79969535, 0.80020654,\n",
              "       0.27799993, 0.8527744 , 0.79992997, 0.20012969, 0.79992725,\n",
              "       0.19989901, 0.80844207, 0.20016276, 0.73112882, 0.79979463,\n",
              "       0.80021685, 0.90168235, 0.9080608 , 0.80018495, 0.20043683,\n",
              "       0.80001527, 0.79471951, 0.28751359, 0.79988193, 0.79987622,\n",
              "       0.19993358, 0.9051442 , 0.19975849, 0.79951164, 0.20025953,\n",
              "       0.73596676, 0.79811614, 0.40249966, 0.79996547, 0.79988861,\n",
              "       0.80005182, 0.82685666, 1.04422414, 0.7998765 , 0.19998138,\n",
              "       0.24546084, 0.76841917, 0.70549914, 0.87964038, 0.84719364,\n",
              "       0.80028783, 0.19991485, 0.80991289, 0.80572203, 0.89890849,\n",
              "       0.88448474, 0.83488841, 0.81962026, 0.81165384, 0.80000122,\n",
              "       0.20018753, 0.79978011, 0.80010298, 0.45429466, 0.8403066 ,\n",
              "       0.49270243, 0.20015097, 0.40939182, 0.79976666, 0.73546039,\n",
              "       0.80783102, 0.79329323, 0.33692085, 0.79985938, 0.34605062,\n",
              "       0.58505766, 0.90294487, 0.20006063, 0.95334339, 0.85691168,\n",
              "       0.62902601, 0.79879566, 0.49305362, 0.43182886, 0.84480774,\n",
              "       0.82465995, 0.1998655 , 0.79973416, 0.19991268, 0.19981207,\n",
              "       0.81499981, 0.79974383, 0.8800341 , 0.8371908 , 0.80042048,\n",
              "       0.84271013, 0.46160485, 0.5890124 , 0.79970854, 0.79950711,\n",
              "       0.80487253, 0.80137259, 0.83834311, 0.49489154, 0.19952868,\n",
              "       0.80021056, 0.79964477, 0.81693283, 0.48352622, 0.7996874 ,\n",
              "       0.30371487, 0.74963751, 0.80046262, 0.77646946, 0.19603703,\n",
              "       0.71944534, 0.82867414, 0.80001892, 0.86797184, 0.79988298,\n",
              "       0.80007665, 0.79981628, 0.20008839, 0.22195371, 0.79988753,\n",
              "       0.80010311, 0.83350658, 0.83924271, 0.1998014 , 0.82531982,\n",
              "       0.82743191, 0.80950701, 0.80408186, 0.91324095, 0.65630469,\n",
              "       0.80362668, 0.91334638, 0.85194355, 0.58924165, 0.20836186,\n",
              "       0.80005856, 0.80421943, 0.70672168, 0.80004319, 0.85713801,\n",
              "       0.80210654, 0.79979615, 0.83394036, 0.83024489, 0.80043459,\n",
              "       0.80039749, 0.75251661, 0.20034229, 0.8560424 , 0.80004366,\n",
              "       0.66127367, 0.80799201, 1.02763122, 0.80033715, 0.81850164,\n",
              "       0.79704208, 0.83153338, 0.80023874, 0.20026932, 0.80121246,\n",
              "       0.81206744, 0.20023753, 0.78435019, 0.80014774, 0.94710468,\n",
              "       0.8284217 , 0.895842  , 0.83236268, 0.94608621, 0.19990957,\n",
              "       0.22089816, 0.79990989, 0.80035131, 0.8674301 , 0.84187564,\n",
              "       0.77653374, 0.09829549, 0.82081945, 0.20015159, 0.20346311,\n",
              "       0.81044619, 0.81103496, 0.84612588, 0.80005444, 0.80000615,\n",
              "       0.312423  , 0.80030907, 0.80967729, 0.81840462, 0.82633499,\n",
              "       0.77620116, 0.87374756, 0.81730953, 0.3768629 , 0.79998791,\n",
              "       0.89304323, 0.28326887, 0.21293597, 0.80028072, 0.21107182,\n",
              "       0.8029576 , 0.19985884, 0.89000095, 0.22417173, 0.30702293,\n",
              "       0.20011018, 0.77562401, 0.60596967, 0.79976595, 0.73285486,\n",
              "       0.41735463, 0.8276555 , 0.79947055, 0.89931615, 0.82853812,\n",
              "       0.80007955])"
            ]
          },
          "metadata": {},
          "execution_count": 340
        }
      ]
    },
    {
      "cell_type": "markdown",
      "source": [
        "mean square error"
      ],
      "metadata": {
        "id": "nV0oNXmqD2E6"
      }
    },
    {
      "cell_type": "code",
      "source": [
        "from sklearn.metrics  import  mean_squared_error\n",
        "mean_squared_error(y_train, svm_predict)"
      ],
      "metadata": {
        "colab": {
          "base_uri": "https://localhost:8080/"
        },
        "id": "02DXvMhDC4Bb",
        "outputId": "151f66d6-4bc0-4f58-ffe9-5ba3dceeed5f"
      },
      "execution_count": 341,
      "outputs": [
        {
          "output_type": "execute_result",
          "data": {
            "text/plain": [
              "0.1150687078258508"
            ]
          },
          "metadata": {},
          "execution_count": 341
        }
      ]
    },
    {
      "cell_type": "code",
      "source": [
        "np.sqrt(mean_squared_error(y_train, svm_predict))"
      ],
      "metadata": {
        "colab": {
          "base_uri": "https://localhost:8080/"
        },
        "id": "UOuuSBvHC-aj",
        "outputId": "4335ac84-0129-42ac-c32b-54aa1a0ae771"
      },
      "execution_count": 342,
      "outputs": [
        {
          "output_type": "execute_result",
          "data": {
            "text/plain": [
              "0.3392177881919679"
            ]
          },
          "metadata": {},
          "execution_count": 342
        }
      ]
    },
    {
      "cell_type": "markdown",
      "source": [
        "## **K-Nearest Neighbor(KNN) Algorithm**"
      ],
      "metadata": {
        "id": "4xQJQ9FxDIsF"
      }
    },
    {
      "cell_type": "code",
      "source": [
        "from sklearn.neighbors import KNeighborsRegressor\n",
        "knn = KNeighborsRegressor(n_neighbors=5)\n",
        "knn.fit(X_train, y_train)"
      ],
      "metadata": {
        "colab": {
          "base_uri": "https://localhost:8080/"
        },
        "id": "GmXkNX_oDNPy",
        "outputId": "0dc9be34-3628-40ba-e92b-09bd33f9f404"
      },
      "execution_count": 343,
      "outputs": [
        {
          "output_type": "execute_result",
          "data": {
            "text/plain": [
              "KNeighborsRegressor()"
            ]
          },
          "metadata": {},
          "execution_count": 343
        }
      ]
    },
    {
      "cell_type": "code",
      "source": [
        "knn.score(X_train, y_train)"
      ],
      "metadata": {
        "colab": {
          "base_uri": "https://localhost:8080/"
        },
        "id": "C4e4UoDfDTR7",
        "outputId": "bab82f1f-8375-4b89-ab66-91a7918e7b20"
      },
      "execution_count": 344,
      "outputs": [
        {
          "output_type": "execute_result",
          "data": {
            "text/plain": [
              "0.15419862037072707"
            ]
          },
          "metadata": {},
          "execution_count": 344
        }
      ]
    },
    {
      "cell_type": "code",
      "source": [
        "knn_predict =knn.predict(X_train)\n",
        "knn_predict"
      ],
      "metadata": {
        "colab": {
          "base_uri": "https://localhost:8080/"
        },
        "id": "aMVe5FiDDiHo",
        "outputId": "bd677f12-061f-49b6-e58e-0b6bc2e175df"
      },
      "execution_count": 345,
      "outputs": [
        {
          "output_type": "execute_result",
          "data": {
            "text/plain": [
              "array([0.8, 0.8, 0.8, 0.4, 1. , 1. , 0.4, 1. , 0.6, 0.6, 0.8, 1. , 0.8,\n",
              "       0.4, 0.8, 0.6, 0.8, 0.6, 0.8, 0.6, 0.8, 0.4, 1. , 0.4, 0.6, 0.6,\n",
              "       0.6, 1. , 0.4, 0.4, 0.8, 1. , 0.8, 0.2, 0.8, 1. , 0.4, 0.8, 0.8,\n",
              "       0.8, 0.4, 0.6, 0.6, 0.4, 0.4, 0.8, 1. , 0.6, 0.2, 0.8, 0.6, 0.2,\n",
              "       0.8, 0.8, 0.8, 0.8, 0.8, 0.6, 0.6, 0.2, 1. , 0.8, 0.4, 0.8, 1. ,\n",
              "       0.6, 1. , 0.2, 0.6, 0.2, 0.6, 0.8, 1. , 1. , 0.6, 1. , 0.8, 0.8,\n",
              "       0.8, 0.2, 0.8, 1. , 0.4, 0.8, 0.6, 0.8, 0.6, 0.8, 0.6, 1. , 0.8,\n",
              "       0.6, 0.6, 0.6, 1. , 0.4, 0.8, 1. , 0.8, 0.6, 0.6, 1. , 0.8, 0.2,\n",
              "       0.8, 1. , 0.6, 1. , 0.6, 0.8, 0.6, 0.6, 0.8, 0.4, 0.8, 1. , 0.6,\n",
              "       0.8, 0.6, 0.8, 0.6, 0.8, 0.6, 0.8, 0.6, 0.6, 0.6, 0.6, 1. , 0.8,\n",
              "       0.8, 0.8, 0.4, 0.4, 0.8, 0.4, 1. , 1. , 0.6, 0.4, 0.8, 1. , 0.4,\n",
              "       0.8, 0.8, 0.8, 0.8, 0.8, 0.8, 0.6, 0.6, 0.6, 0.6, 0.6, 0.8, 0.4,\n",
              "       0.8, 0.8, 0.6, 0.8, 0.4, 0.8, 0.6, 0.6, 0.8, 0.8, 0.4, 0.8, 1. ,\n",
              "       0.6, 0.8, 0.6, 0.8, 0.2, 0.4, 0.4, 0.6, 0.6, 0.6, 0.8, 1. , 0.8,\n",
              "       0.8, 0.6, 0.4, 0.6, 0.8, 1. , 0.6, 0.8, 0.8, 0.8, 0.4, 0.8, 0.6,\n",
              "       0.6, 0.8, 0.4, 0.4, 0.4, 0.6, 0.6, 1. , 0.8, 0.6, 0.6, 0.8, 1. ,\n",
              "       0.6, 1. , 1. , 0.6, 0.8, 1. , 0.6, 0.6, 0.8, 1. , 0.4, 0.8, 0.8,\n",
              "       0.8, 0.2, 0.8, 1. , 0.8, 0.4, 0.4, 1. , 0.8, 0.6, 0.4, 1. , 0.4,\n",
              "       1. , 0.6, 0.2, 0.8, 0.6, 0.6, 0.4, 0.8, 0.6, 0.6, 0.6, 0.8, 0.8,\n",
              "       0.6, 0.6, 0.8, 0.4, 0.2, 0.4, 0.6, 0.8, 0.6, 0.8, 0.8, 0.4, 1. ,\n",
              "       0.4, 0.8, 0.6, 1. , 0.8, 1. , 0.8, 0.6, 0.8, 0.2, 0.4, 0.6, 0.6,\n",
              "       0.8, 1. , 0.2, 0.6, 0.6, 0.8, 0.8, 1. , 0.6, 0.8, 0.6, 1. , 0.8,\n",
              "       0.8, 0.6, 1. , 0.6, 0.8, 0.4, 0.8, 0.8, 0.6, 1. , 1. , 0.2, 0.4,\n",
              "       1. , 0.8, 0.8, 0.6, 0.6, 0.8, 0.8, 0.8, 0.6, 1. , 0.8, 0.8, 0.8,\n",
              "       0.4, 0.8, 0.6, 0.8, 0.8, 0.8, 0.6, 0.8, 0.4, 0.8, 0.6, 1. , 0.4,\n",
              "       0.6, 1. , 1. , 0.6, 0.8, 0.4, 0.8, 0.8, 0.4, 0.8, 0.4, 0.6, 0.4,\n",
              "       1. , 1. , 1. , 0.8, 0.8, 0.8, 0.8, 0.4, 0.8, 0.8, 0.8, 1. , 0.8,\n",
              "       0.2, 1. , 0.2, 0.8, 1. , 0.8, 0.6, 0.6, 0.4, 0.8, 0.4, 1. , 1. ,\n",
              "       0.6, 0.8, 0.6, 0.8, 1. , 1. , 0.6, 0.6, 0.6, 0.6, 0.6, 0.8, 0.8,\n",
              "       0.6, 0.8, 0.4, 1. , 1. , 0.4, 0.6, 0.6, 0.6, 1. , 0.6, 0.4, 0.6,\n",
              "       1. , 1. , 0.4, 0.2, 0.8, 1. , 1. , 0.8, 0.4, 1. , 0.8, 0.6, 1. ,\n",
              "       0.6, 0.8, 0.8, 1. , 0.8, 0.8, 0.6, 0.8, 0.6, 0.4, 0.4, 0.8, 0.8,\n",
              "       0.6, 0.8, 0.8, 0.8, 0.6, 0.2, 0.6, 0.4, 1. , 0.8, 1. , 1. , 0.8,\n",
              "       0.8, 0.8, 0.8, 0.6, 0.6, 1. , 0.4, 0.8, 0.6, 0.6, 1. , 0.6, 0.8,\n",
              "       0.6, 1. , 0.8, 0.8, 0.8, 1. , 0.8, 1. , 0.4, 0.6, 0.8, 0.6, 0.6,\n",
              "       0.6, 1. , 0.6, 0.6, 1. , 0.6, 0.6, 0.8, 1. , 1. , 0.6, 0.6, 0.8,\n",
              "       1. , 0.6, 0.8, 0.4, 0.6, 0.4, 0.6, 0.6, 0.8, 1. , 0.4, 0.6, 0.4,\n",
              "       0.4, 0.8, 0.4, 0.6, 0.8, 0.8, 0.6, 1. , 0.8, 0.6])"
            ]
          },
          "metadata": {},
          "execution_count": 345
        }
      ]
    },
    {
      "cell_type": "markdown",
      "source": [
        "mean square eroor"
      ],
      "metadata": {
        "id": "wtPZaSWZEClX"
      }
    },
    {
      "cell_type": "code",
      "source": [
        "from sklearn.metrics  import  mean_squared_error\n",
        "mean_squared_error(y_train, knn_predict)"
      ],
      "metadata": {
        "colab": {
          "base_uri": "https://localhost:8080/"
        },
        "id": "k-vCG3mGDo2L",
        "outputId": "ef2c5f93-6d53-4b9f-e90d-e66f67fd6337"
      },
      "execution_count": 346,
      "outputs": [
        {
          "output_type": "execute_result",
          "data": {
            "text/plain": [
              "0.18207739307535642"
            ]
          },
          "metadata": {},
          "execution_count": 346
        }
      ]
    },
    {
      "cell_type": "code",
      "source": [
        "np.sqrt(mean_squared_error(y_train, knn_predict))"
      ],
      "metadata": {
        "colab": {
          "base_uri": "https://localhost:8080/"
        },
        "id": "jcaZpGFzEEcu",
        "outputId": "a67504be-3d2d-4419-9743-13f54a18677d"
      },
      "execution_count": 347,
      "outputs": [
        {
          "output_type": "execute_result",
          "data": {
            "text/plain": [
              "0.4267052765965713"
            ]
          },
          "metadata": {},
          "execution_count": 347
        }
      ]
    },
    {
      "cell_type": "markdown",
      "source": [
        "## **Gaussian Regression**"
      ],
      "metadata": {
        "id": "AVsXMSvDEPZx"
      }
    },
    {
      "cell_type": "code",
      "source": [
        "from sklearn.datasets import make_friedman2\n",
        "from sklearn.gaussian_process import GaussianProcessRegressor\n",
        "from sklearn.gaussian_process.kernels import DotProduct, WhiteKernel\n",
        "kernel = DotProduct() + WhiteKernel()\n",
        "gau = GaussianProcessRegressor(kernel=kernel,random_state=0).fit(X_train, y_train)"
      ],
      "metadata": {
        "id": "a_n4POEoEVS-"
      },
      "execution_count": 348,
      "outputs": []
    },
    {
      "cell_type": "code",
      "source": [
        "gaussian_predict= gau.predict(X_train)\n",
        "gaussian_predict"
      ],
      "metadata": {
        "colab": {
          "base_uri": "https://localhost:8080/"
        },
        "id": "bLGLp_aFEZAf",
        "outputId": "f1fbea40-83ef-432f-d6cc-4dab6dc95c7e"
      },
      "execution_count": 349,
      "outputs": [
        {
          "output_type": "execute_result",
          "data": {
            "text/plain": [
              "array([0.70605988, 0.87285365, 0.35191283, 0.21695377, 0.90480487,\n",
              "       0.83747268, 0.85514588, 0.29850483, 0.70944196, 0.90140747,\n",
              "       0.6625755 , 0.69023833, 0.72300711, 0.70311021, 0.83181026,\n",
              "       0.47500165, 0.68401625, 0.64100447, 0.3840083 , 0.76159704,\n",
              "       0.90654329, 0.7158933 , 0.79449321, 0.71500804, 0.73587749,\n",
              "       0.77382834, 0.36699532, 0.31601576, 0.28821611, 0.45190714,\n",
              "       0.76172713, 0.75790414, 0.84927024, 0.66650547, 0.29234536,\n",
              "       0.93212686, 0.39779565, 0.4839229 , 0.67365809, 0.17336896,\n",
              "       0.75824153, 0.80534357, 0.80356279, 0.7794854 , 0.57521754,\n",
              "       0.73163015, 0.93619389, 0.7369541 , 0.29970248, 0.9066455 ,\n",
              "       0.88364964, 0.23862987, 0.72020569, 0.83727688, 0.90081304,\n",
              "       0.36187461, 0.34908061, 0.88100648, 0.94044236, 0.81564968,\n",
              "       0.90693046, 0.70397232, 0.6984054 , 0.89890314, 0.8306002 ,\n",
              "       0.34448962, 0.93607973, 0.84798707, 0.5033397 , 0.36727041,\n",
              "       0.73671743, 0.38560051, 0.89562505, 0.81351147, 0.86550881,\n",
              "       0.78543606, 0.76996674, 0.91173214, 0.81835449, 0.65310336,\n",
              "       0.71763888, 0.81886017, 0.70646488, 0.85393424, 0.76505083,\n",
              "       0.78352057, 0.22510782, 0.95350518, 0.37587648, 0.74429149,\n",
              "       0.73964975, 0.9230127 , 0.31880089, 0.8484219 , 0.84452307,\n",
              "       0.67962448, 0.83339347, 0.77933714, 0.89119615, 0.66037776,\n",
              "       0.7244807 , 0.61250206, 0.48632554, 0.71375118, 0.80934909,\n",
              "       0.77602239, 0.95137791, 0.88733784, 0.82155086, 0.40326523,\n",
              "       0.39803844, 0.89260593, 0.70042951, 0.24654647, 0.96566191,\n",
              "       0.78864316, 0.7839829 , 0.71145231, 0.73780668, 0.13848448,\n",
              "       0.67170937, 0.74814072, 0.72077013, 0.59841392, 0.29347412,\n",
              "       0.72676032, 0.93505815, 0.64792592, 0.79337801, 0.29714136,\n",
              "       0.65560851, 0.75784278, 0.3703345 , 0.89262413, 0.72433491,\n",
              "       0.82444469, 0.87081302, 0.6842389 , 0.82824088, 0.30114413,\n",
              "       0.77582635, 0.9853811 , 0.32288064, 0.78941853, 0.79336891,\n",
              "       0.47223787, 0.75000827, 0.76372215, 0.64792278, 0.70424702,\n",
              "       0.36751724, 0.72008001, 0.923272  , 0.6740742 , 0.92331524,\n",
              "       0.74892003, 0.85726368, 0.45915654, 0.15436288, 0.19876708,\n",
              "       0.6574569 , 0.74284426, 0.74842936, 0.40282407, 0.80363748,\n",
              "       0.78139414, 0.09960641, 0.43808097, 0.77554024, 0.90571397,\n",
              "       0.81876409, 0.80510748, 0.32277268, 0.24739578, 0.85785385,\n",
              "       0.74101481, 0.74314044, 0.71349403, 0.30609029, 0.77591578,\n",
              "       0.7279084 , 0.82823692, 0.77472213, 0.79005055, 0.65753287,\n",
              "       0.87454473, 0.76960261, 0.72956409, 0.90313966, 0.83814346,\n",
              "       0.79007724, 0.76296614, 0.81629002, 0.88321984, 0.32926806,\n",
              "       0.40645455, 0.77856862, 0.29405357, 0.82134679, 0.66542492,\n",
              "       0.81124742, 0.73366051, 0.63937209, 0.83608107, 0.30901127,\n",
              "       0.29277428, 0.70898099, 0.70187295, 0.86313794, 0.69936265,\n",
              "       0.81060087, 0.8057781 , 0.31218916, 0.6820639 , 0.82577138,\n",
              "       0.85817635, 0.85462075, 0.81704124, 0.74335934, 0.44987049,\n",
              "       0.3475618 , 0.78036335, 0.88233334, 0.81169711, 0.98176652,\n",
              "       0.78817159, 0.25809394, 0.23170267, 0.87726114, 0.75934158,\n",
              "       0.8315888 , 0.16932018, 0.67966677, 0.91888673, 0.87724705,\n",
              "       0.94474873, 0.36651002, 0.77667839, 0.35683212, 0.85175782,\n",
              "       0.74132485, 0.34368956, 0.72235996, 0.79957076, 0.72128645,\n",
              "       0.81583825, 0.85068822, 0.67585686, 0.70992057, 0.8208636 ,\n",
              "       0.74493041, 0.63574561, 0.22488395, 0.75046762, 0.89467634,\n",
              "       0.80476483, 0.73348515, 0.30108519, 0.29044288, 0.67904577,\n",
              "       0.6728883 , 0.77115626, 0.79750805, 0.81400861, 0.70720709,\n",
              "       0.29429012, 0.30189806, 0.20541616, 0.90834926, 0.64810727,\n",
              "       0.83637732, 0.85152585, 0.69835989, 0.69529149, 0.89961826,\n",
              "       0.26074545, 0.69541255, 0.99039129, 0.64303688, 0.81697808,\n",
              "       0.31812351, 0.76778771, 0.79310569, 0.71389939, 0.85628114,\n",
              "       0.29193839, 0.85016211, 0.26481215, 0.73470191, 0.95723653,\n",
              "       0.64378067, 0.86376415, 0.90048273, 0.89918525, 0.82523421,\n",
              "       0.82319496, 0.77490516, 0.80552402, 0.37144707, 0.79717396,\n",
              "       0.26052435, 0.90558743, 0.42350984, 0.85769496, 0.32330992,\n",
              "       0.75582658, 0.71146398, 0.38799545, 0.74674672, 0.91244084,\n",
              "       0.71387731, 0.95153662, 0.89694846, 0.80118466, 0.30868929,\n",
              "       0.39521873, 0.59936889, 0.75612976, 0.92845137, 0.84002794,\n",
              "       0.65637954, 0.22746664, 0.79493797, 0.84557439, 0.94412894,\n",
              "       0.89147779, 0.75873557, 0.81765465, 0.83292594, 0.37193044,\n",
              "       0.81282545, 0.91296856, 0.739796  , 0.71467964, 0.74993432,\n",
              "       0.71488197, 0.24963693, 0.80942964, 0.68947518, 0.75546649,\n",
              "       0.77331875, 0.72341175, 0.7301581 , 0.79720771, 0.72008217,\n",
              "       0.73812321, 0.89553185, 0.30052577, 0.72652476, 0.77073999,\n",
              "       0.80908784, 0.84793258, 0.25312741, 0.82396671, 0.88558478,\n",
              "       0.79646992, 0.3056937 , 0.66693113, 0.46146461, 0.27030297,\n",
              "       0.80581729, 0.84539401, 0.92717458, 0.80707216, 0.78933506,\n",
              "       0.77041607, 0.72254258, 0.48231933, 0.84578515, 0.83704184,\n",
              "       0.77875369, 0.83628214, 0.76150775, 0.68606033, 0.18808233,\n",
              "       0.78376086, 0.75557026, 0.72283332, 0.80872979, 0.87509437,\n",
              "       0.36585644, 0.6130033 , 0.79088568, 0.81445781, 0.45002415,\n",
              "       0.31751917, 0.85926737, 0.74281301, 0.93021999, 0.71637191,\n",
              "       0.7043496 , 0.71447442, 0.28652268, 0.28701388, 0.62626456,\n",
              "       0.6407275 , 0.85089883, 0.76535423, 0.32124955, 0.72510649,\n",
              "       0.76521547, 0.78304888, 0.71916375, 0.72362533, 0.83594086,\n",
              "       0.711722  , 0.88746272, 0.68582882, 0.88152955, 0.31509366,\n",
              "       0.67002152, 0.84844222, 0.71922187, 0.84821308, 0.94130251,\n",
              "       0.79139887, 0.77046913, 0.6437005 , 0.77931621, 0.86363856,\n",
              "       0.8766821 , 0.61093482, 0.39099717, 0.76599554, 0.75342749,\n",
              "       0.86206753, 0.8006575 , 0.88517709, 0.80561996, 0.82773074,\n",
              "       0.87449791, 0.76969366, 0.33816087, 0.29299873, 0.89067556,\n",
              "       0.80756871, 0.22691345, 0.72276881, 0.73600387, 0.79873275,\n",
              "       0.87201866, 0.76450211, 0.66556112, 0.91751988, 0.3804654 ,\n",
              "       0.29692791, 0.72509646, 0.75281934, 0.83066507, 0.84175549,\n",
              "       0.74126096, 0.20967066, 0.84203233, 0.42811376, 0.41652238,\n",
              "       0.77216364, 0.86143034, 0.83701019, 0.6410419 , 0.78737606,\n",
              "       0.45307497, 0.76120886, 0.7833675 , 0.78212983, 0.77872603,\n",
              "       0.73686766, 0.90483319, 0.69929024, 0.26396466, 0.81801265,\n",
              "       0.89447733, 0.61349191, 0.19923895, 0.89563913, 0.26707764,\n",
              "       0.77415084, 0.30934799, 0.89246441, 0.41985947, 0.81395912,\n",
              "       0.31708867, 0.80572586, 0.69229935, 0.84842012, 0.78943221,\n",
              "       0.33105225, 0.79149887, 0.75435757, 0.89561367, 0.94874029,\n",
              "       0.96148937])"
            ]
          },
          "metadata": {},
          "execution_count": 349
        }
      ]
    },
    {
      "cell_type": "markdown",
      "source": [
        "mean square error"
      ],
      "metadata": {
        "id": "baOkA-M8Eq8l"
      }
    },
    {
      "cell_type": "code",
      "source": [
        "from sklearn.metrics  import  mean_squared_error\n",
        "mean_squared_error(y_train, gaussian_predict)"
      ],
      "metadata": {
        "colab": {
          "base_uri": "https://localhost:8080/"
        },
        "id": "abUQCVnGEs7u",
        "outputId": "2fc254af-724e-4ede-bd68-83861b4affdd"
      },
      "execution_count": 350,
      "outputs": [
        {
          "output_type": "execute_result",
          "data": {
            "text/plain": [
              "0.17116502767133876"
            ]
          },
          "metadata": {},
          "execution_count": 350
        }
      ]
    },
    {
      "cell_type": "code",
      "source": [
        "np.sqrt(mean_squared_error(y_train, gaussian_predict))"
      ],
      "metadata": {
        "colab": {
          "base_uri": "https://localhost:8080/"
        },
        "id": "jFcNXpKqEv5D",
        "outputId": "15518abc-3e34-4665-c07a-fafc1e7a2ee5"
      },
      "execution_count": 351,
      "outputs": [
        {
          "output_type": "execute_result",
          "data": {
            "text/plain": [
              "0.41372095387028535"
            ]
          },
          "metadata": {},
          "execution_count": 351
        }
      ]
    },
    {
      "cell_type": "markdown",
      "source": [
        "## **Lasso regression**"
      ],
      "metadata": {
        "id": "PFn51EvtFEXS"
      }
    },
    {
      "cell_type": "code",
      "source": [
        "from sklearn import linear_model\n",
        "lasso_reg = linear_model.Lasso(alpha=50,max_iter=100,tol=0.1) #max_iter --> The maximum number of iterations, alphafloat:->default=1.0\n",
        "#Constant that multiplies the L1 term, controlling regularization strength. alpha must be a non-negative float, tol:--> The tolerance for the optimization\n",
        "lasso_reg.fit(X_train,y_train)"
      ],
      "metadata": {
        "colab": {
          "base_uri": "https://localhost:8080/"
        },
        "id": "0fCM2lPFFKhd",
        "outputId": "20ff1963-47ad-4cc4-e3df-70d72fe5a393"
      },
      "execution_count": 352,
      "outputs": [
        {
          "output_type": "execute_result",
          "data": {
            "text/plain": [
              "Lasso(alpha=50, max_iter=100, tol=0.1)"
            ]
          },
          "metadata": {},
          "execution_count": 352
        }
      ]
    },
    {
      "cell_type": "code",
      "source": [
        "lasso_reg.score(X_train,y_train)"
      ],
      "metadata": {
        "colab": {
          "base_uri": "https://localhost:8080/"
        },
        "id": "10Re23KzFN1V",
        "outputId": "aead1259-e9b1-44b7-e36f-7863f4e2da8c"
      },
      "execution_count": 353,
      "outputs": [
        {
          "output_type": "execute_result",
          "data": {
            "text/plain": [
              "0.0007401173337012734"
            ]
          },
          "metadata": {},
          "execution_count": 353
        }
      ]
    },
    {
      "cell_type": "code",
      "source": [
        "lasso_predict= lasso_reg.predict(X_train)\n",
        "lasso_predict"
      ],
      "metadata": {
        "colab": {
          "base_uri": "https://localhost:8080/"
        },
        "id": "7bElKBFzFWb8",
        "outputId": "4c78b67f-c9e2-43be-cb4a-f7dbd9883716"
      },
      "execution_count": 354,
      "outputs": [
        {
          "output_type": "execute_result",
          "data": {
            "text/plain": [
              "array([0.68861849, 0.68861769, 0.68618293, 0.68649084, 0.68546198,\n",
              "       0.68596711, 0.68375862, 0.68558608, 0.68856396, 0.68059317,\n",
              "       0.68816962, 0.68848309, 0.68640252, 0.68184971, 0.68531013,\n",
              "       0.68537952, 0.67834212, 0.68856536, 0.68602621, 0.68395966,\n",
              "       0.67757551, 0.68859972, 0.68632935, 0.68853063, 0.68707347,\n",
              "       0.6855389 , 0.68253115, 0.68858603, 0.6825408 , 0.68292503,\n",
              "       0.68862831, 0.68862186, 0.68861078, 0.6886142 , 0.68698127,\n",
              "       0.68858357, 0.68860661, 0.68860356, 0.68858272, 0.68142799,\n",
              "       0.68434558, 0.68654658, 0.68860704, 0.68447047, 0.6849207 ,\n",
              "       0.68862056, 0.68337524, 0.68645432, 0.68861577, 0.68204464,\n",
              "       0.68855234, 0.68861467, 0.68847094, 0.6826167 , 0.68741594,\n",
              "       0.68655622, 0.68846552, 0.68551002, 0.68608223, 0.68860118,\n",
              "       0.6886117 , 0.6878598 , 0.68321975, 0.68608535, 0.68858505,\n",
              "       0.68860661, 0.68861246, 0.68860165, 0.68859575, 0.68861475,\n",
              "       0.68857253, 0.68590642, 0.68636808, 0.68597794, 0.68600269,\n",
              "       0.68861247, 0.68858729, 0.68596504, 0.68856006, 0.68863204,\n",
              "       0.68858533, 0.68843295, 0.6886299 , 0.68859066, 0.68581928,\n",
              "       0.68568856, 0.68371673, 0.68653601, 0.68859894, 0.68611873,\n",
              "       0.68856785, 0.68858272, 0.68492433, 0.68861972, 0.68862288,\n",
              "       0.6885992 , 0.6885345 , 0.68858495, 0.68857133, 0.68504966,\n",
              "       0.68839735, 0.68861095, 0.68792916, 0.68861398, 0.68844347,\n",
              "       0.68862071, 0.68857569, 0.68721574, 0.68821406, 0.68860486,\n",
              "       0.68310116, 0.68572889, 0.68691054, 0.68852521, 0.68847094,\n",
              "       0.68761302, 0.68565956, 0.68856709, 0.68685189, 0.68760593,\n",
              "       0.68860421, 0.68861871, 0.68689311, 0.68623825, 0.68589544,\n",
              "       0.68715409, 0.68861963, 0.68241341, 0.68506789, 0.68619323,\n",
              "       0.68370023, 0.68783597, 0.68862961, 0.68414925, 0.68859163,\n",
              "       0.68862967, 0.68826848, 0.68848814, 0.68860661, 0.68631271,\n",
              "       0.68858272, 0.68530135, 0.68081746, 0.68862831, 0.6850268 ,\n",
              "       0.68813992, 0.68464836, 0.68584266, 0.68857202, 0.68860416,\n",
              "       0.68282099, 0.6886105 , 0.68854257, 0.68050604, 0.6869642 ,\n",
              "       0.68856383, 0.68844381, 0.68860473, 0.68858214, 0.68859413,\n",
              "       0.68459358, 0.68854149, 0.68562877, 0.68372908, 0.6805753 ,\n",
              "       0.68524059, 0.62933638, 0.6876777 , 0.68857035, 0.68855233,\n",
              "       0.68646416, 0.68562975, 0.68530754, 0.68861414, 0.68860075,\n",
              "       0.688599  , 0.68576224, 0.68861962, 0.68597736, 0.68550666,\n",
              "       0.68623741, 0.68860485, 0.68858229, 0.68861528, 0.68861659,\n",
              "       0.68599955, 0.68594842, 0.6885684 , 0.68388339, 0.68762264,\n",
              "       0.68860346, 0.68861862, 0.68232826, 0.68712429, 0.68453327,\n",
              "       0.68859665, 0.68859359, 0.68446045, 0.68364424, 0.6885176 ,\n",
              "       0.68527764, 0.68860888, 0.68524725, 0.68712045, 0.68861515,\n",
              "       0.68625354, 0.68862822, 0.68588842, 0.68856211, 0.68635037,\n",
              "       0.68676971, 0.68612498, 0.68554321, 0.68858469, 0.68495523,\n",
              "       0.68853063, 0.68862068, 0.68853709, 0.68861646, 0.68858603,\n",
              "       0.68674361, 0.68547998, 0.68860096, 0.68709787, 0.68631102,\n",
              "       0.68798671, 0.68859646, 0.68862544, 0.68861203, 0.68146685,\n",
              "       0.68852086, 0.68861403, 0.68516736, 0.68851978, 0.68057852,\n",
              "       0.68855668, 0.68863194, 0.68858939, 0.68839823, 0.68690915,\n",
              "       0.68328863, 0.68858924, 0.6885964 , 0.68654777, 0.68859722,\n",
              "       0.68090698, 0.68846725, 0.68605117, 0.688615  , 0.68518953,\n",
              "       0.6886299 , 0.68863482, 0.68275746, 0.68250447, 0.68849317,\n",
              "       0.68587359, 0.68859032, 0.68856101, 0.68858147, 0.68526911,\n",
              "       0.68608961, 0.68853938, 0.68855945, 0.68654427, 0.68573725,\n",
              "       0.68511782, 0.68858272, 0.68229222, 0.68394784, 0.68864209,\n",
              "       0.68860632, 0.6886133 , 0.68677239, 0.68336605, 0.68731776,\n",
              "       0.6886325 , 0.68592326, 0.68840711, 0.68572057, 0.67708077,\n",
              "       0.68656254, 0.68207953, 0.68862547, 0.6601671 , 0.68632148,\n",
              "       0.68684412, 0.68572099, 0.68857254, 0.68546008, 0.68855234,\n",
              "       0.68862397, 0.68853002, 0.6874708 , 0.68564657, 0.67287907,\n",
              "       0.68425419, 0.68600061, 0.68861623, 0.67889809, 0.68363492,\n",
              "       0.68415711, 0.68660128, 0.68595838, 0.68643621, 0.68614227,\n",
              "       0.68527027, 0.68862858, 0.68859675, 0.68626549, 0.68059092,\n",
              "       0.68628182, 0.68536944, 0.68606673, 0.6785169 , 0.68861945,\n",
              "       0.6854744 , 0.68862499, 0.68647223, 0.68861061, 0.68536998,\n",
              "       0.68248989, 0.68844923, 0.68859711, 0.68662739, 0.68450536,\n",
              "       0.68359683, 0.68856859, 0.68618992, 0.68860511, 0.68553384,\n",
              "       0.68861553, 0.68408488, 0.68700207, 0.68861713, 0.68391257,\n",
              "       0.68497826, 0.68642954, 0.6861826 , 0.68861122, 0.68521589,\n",
              "       0.68373547, 0.68858272, 0.68861203, 0.68859326, 0.6886209 ,\n",
              "       0.68636707, 0.68624206, 0.6885611 , 0.68503842, 0.68566069,\n",
              "       0.68755649, 0.6886014 , 0.68437005, 0.68860118, 0.68265436,\n",
              "       0.6854892 , 0.68652853, 0.68857751, 0.68683664, 0.68304291,\n",
              "       0.68511508, 0.68861582, 0.68862236, 0.68753774, 0.68854855,\n",
              "       0.688539  , 0.68433415, 0.68460739, 0.68721128, 0.68862142,\n",
              "       0.68404365, 0.68860669, 0.68388409, 0.6883917 , 0.68541029,\n",
              "       0.68712524, 0.68860739, 0.68580509, 0.68862831, 0.68505747,\n",
              "       0.68561621, 0.6886128 , 0.68852531, 0.68255862, 0.68444829,\n",
              "       0.68860747, 0.68756047, 0.68835086, 0.68662495, 0.68862915,\n",
              "       0.68858659, 0.68624008, 0.68857448, 0.68863638, 0.68627575,\n",
              "       0.68842429, 0.68862316, 0.68575452, 0.68505747, 0.68519888,\n",
              "       0.68576533, 0.6886104 , 0.68861203, 0.68857481, 0.6791431 ,\n",
              "       0.68861746, 0.68853636, 0.68854148, 0.68626767, 0.68862324,\n",
              "       0.68197171, 0.68861954, 0.68615883, 0.68860578, 0.68859334,\n",
              "       0.68703044, 0.68860893, 0.68427335, 0.68584871, 0.68846707,\n",
              "       0.68860985, 0.68857991, 0.68859575, 0.68469975, 0.68446665,\n",
              "       0.68855755, 0.68862264, 0.68629528, 0.68845092, 0.68859249,\n",
              "       0.68494289, 0.68518129, 0.67584869, 0.68145397, 0.68053017,\n",
              "       0.68861635, 0.68588791, 0.68859575, 0.68143437, 0.68853665,\n",
              "       0.68608711, 0.68613204, 0.68598026, 0.68833525, 0.68381034,\n",
              "       0.67825608, 0.68573764, 0.68843604, 0.68722747, 0.68715459,\n",
              "       0.68860028, 0.68857621, 0.68349935, 0.68854627, 0.68855277,\n",
              "       0.6860272 , 0.68570425, 0.6885951 , 0.66015538, 0.68715476,\n",
              "       0.68205382, 0.68672873, 0.68553425, 0.68454694, 0.68317939,\n",
              "       0.68657035, 0.68563572, 0.6856566 , 0.68861278, 0.6783555 ,\n",
              "       0.6852839 , 0.68859976, 0.68105995, 0.6885989 , 0.68860269,\n",
              "       0.67733108, 0.68625   , 0.68449377, 0.68857939, 0.68822006,\n",
              "       0.68851435, 0.68859936, 0.68856752, 0.6886001 , 0.68665584,\n",
              "       0.68664177, 0.68464878, 0.67972889, 0.68541694, 0.68535128,\n",
              "       0.68791037])"
            ]
          },
          "metadata": {},
          "execution_count": 354
        }
      ]
    },
    {
      "cell_type": "code",
      "source": [
        "from sklearn.metrics  import  mean_squared_error\n",
        "mean_squared_error(y_train, lasso_predict)"
      ],
      "metadata": {
        "colab": {
          "base_uri": "https://localhost:8080/"
        },
        "id": "gnjCAGgBFl6S",
        "outputId": "ffc13bc9-dd1a-44c0-94cf-6fe2f0c73ea3"
      },
      "execution_count": 355,
      "outputs": [
        {
          "output_type": "execute_result",
          "data": {
            "text/plain": [
              "0.21511271892275033"
            ]
          },
          "metadata": {},
          "execution_count": 355
        }
      ]
    },
    {
      "cell_type": "code",
      "source": [
        "np.sqrt(mean_squared_error(y_train, lasso_predict))"
      ],
      "metadata": {
        "colab": {
          "base_uri": "https://localhost:8080/"
        },
        "id": "V_28YQHjFp7H",
        "outputId": "33376a6c-8fc2-45e9-b8e3-4ad56f006691"
      },
      "execution_count": 356,
      "outputs": [
        {
          "output_type": "execute_result",
          "data": {
            "text/plain": [
              "0.46380245678817866"
            ]
          },
          "metadata": {},
          "execution_count": 356
        }
      ]
    },
    {
      "cell_type": "markdown",
      "source": [
        "## **Ridge Regression**"
      ],
      "metadata": {
        "id": "S5zmZM2YF8uy"
      }
    },
    {
      "cell_type": "code",
      "source": [
        "from sklearn.linear_model import Ridge\n",
        "ridge= Ridge(alpha=1.0)\n",
        "ridge.fit(X_train, y_train)"
      ],
      "metadata": {
        "colab": {
          "base_uri": "https://localhost:8080/"
        },
        "id": "uMiwczxLGAGD",
        "outputId": "aa5c2908-822a-499a-df22-bb5210a0e168"
      },
      "execution_count": 357,
      "outputs": [
        {
          "output_type": "execute_result",
          "data": {
            "text/plain": [
              "Ridge()"
            ]
          },
          "metadata": {},
          "execution_count": 357
        }
      ]
    },
    {
      "cell_type": "code",
      "source": [
        "ridge_predict=ridge.predict(X_train)"
      ],
      "metadata": {
        "id": "DzhUzzihGEYQ"
      },
      "execution_count": 358,
      "outputs": []
    },
    {
      "cell_type": "code",
      "source": [
        "from sklearn.metrics  import  mean_squared_error\n",
        "mean_squared_error(y_train, ridge_predict)"
      ],
      "metadata": {
        "colab": {
          "base_uri": "https://localhost:8080/"
        },
        "id": "2OZG4RlcGLRe",
        "outputId": "9706d6db-79ed-4c60-e787-3292f4bac740"
      },
      "execution_count": 359,
      "outputs": [
        {
          "output_type": "execute_result",
          "data": {
            "text/plain": [
              "0.17105492837570793"
            ]
          },
          "metadata": {},
          "execution_count": 359
        }
      ]
    },
    {
      "cell_type": "code",
      "source": [
        "np.sqrt(mean_squared_error(y_train, ridge_predict))"
      ],
      "metadata": {
        "colab": {
          "base_uri": "https://localhost:8080/"
        },
        "id": "kTdFe24EGQP0",
        "outputId": "9b99d154-685e-4593-fcb4-8a6aec96014c"
      },
      "execution_count": 360,
      "outputs": [
        {
          "output_type": "execute_result",
          "data": {
            "text/plain": [
              "0.41358787261682123"
            ]
          },
          "metadata": {},
          "execution_count": 360
        }
      ]
    },
    {
      "cell_type": "markdown",
      "source": [
        "## **Bayesian Ridge Regression**"
      ],
      "metadata": {
        "id": "qqlFA_PSGWMc"
      }
    },
    {
      "cell_type": "code",
      "source": [
        "from sklearn import linear_model\n",
        "BayReg = linear_model.BayesianRidge()\n",
        "BayReg.fit(X_train, y_train)\n",
        "bayesian_predict= BayReg.predict(X_train)"
      ],
      "metadata": {
        "id": "CuTEInN4GcnU"
      },
      "execution_count": 361,
      "outputs": []
    },
    {
      "cell_type": "markdown",
      "source": [
        "mean square error"
      ],
      "metadata": {
        "id": "OxE4H8-tGxVJ"
      }
    },
    {
      "cell_type": "code",
      "source": [
        "from sklearn.metrics  import  mean_squared_error\n",
        "mean_squared_error(y_train, bayesian_predict)"
      ],
      "metadata": {
        "colab": {
          "base_uri": "https://localhost:8080/"
        },
        "id": "JvOrc4ZQGvFy",
        "outputId": "291ccd2a-95f8-416b-df01-09f25d4d6993"
      },
      "execution_count": 362,
      "outputs": [
        {
          "output_type": "execute_result",
          "data": {
            "text/plain": [
              "0.17203584465884847"
            ]
          },
          "metadata": {},
          "execution_count": 362
        }
      ]
    },
    {
      "cell_type": "code",
      "source": [
        "np.sqrt(mean_squared_error(y_train, bayesian_predict))"
      ],
      "metadata": {
        "colab": {
          "base_uri": "https://localhost:8080/"
        },
        "id": "3zoAWSRoG5dp",
        "outputId": "2c0fa7e1-eca1-422c-ef5d-f8f0771d933f"
      },
      "execution_count": 363,
      "outputs": [
        {
          "output_type": "execute_result",
          "data": {
            "text/plain": [
              "0.41477203938892565"
            ]
          },
          "metadata": {},
          "execution_count": 363
        }
      ]
    },
    {
      "cell_type": "markdown",
      "source": [
        "## **Kernel Ridge Regression**"
      ],
      "metadata": {
        "id": "_XkHGi8_HHOT"
      }
    },
    {
      "cell_type": "code",
      "source": [
        "import sklearn\n",
        "from sklearn.kernel_ridge import KernelRidge\n",
        "kerReg = sklearn.kernel_ridge.KernelRidge(alpha=1,kernel='linear', gamma=None, degree=3, coef0=1, kernel_params=None)\n",
        "kerReg.fit(X_train,y_train)\n",
        "ker_predict = reg.predict(X_train)"
      ],
      "metadata": {
        "id": "ytAl4YOXHofe"
      },
      "execution_count": 364,
      "outputs": []
    },
    {
      "cell_type": "code",
      "source": [
        "from sklearn.metrics  import  mean_squared_error\n",
        "mean_squared_error(y_train, ker_predict)"
      ],
      "metadata": {
        "colab": {
          "base_uri": "https://localhost:8080/"
        },
        "id": "LECuO_YeHyF_",
        "outputId": "8c338ad5-5c29-4a58-ae23-c2804b70e974"
      },
      "execution_count": 365,
      "outputs": [
        {
          "output_type": "execute_result",
          "data": {
            "text/plain": [
              "0.170971699802133"
            ]
          },
          "metadata": {},
          "execution_count": 365
        }
      ]
    },
    {
      "cell_type": "code",
      "source": [
        "np.sqrt(mean_squared_error(y_train, ker_predict))"
      ],
      "metadata": {
        "colab": {
          "base_uri": "https://localhost:8080/"
        },
        "id": "aU7yJn3wH5VV",
        "outputId": "68ee6ebc-8e44-4f1c-d795-673209493f0b"
      },
      "execution_count": 366,
      "outputs": [
        {
          "output_type": "execute_result",
          "data": {
            "text/plain": [
              "0.4134872426111028"
            ]
          },
          "metadata": {},
          "execution_count": 366
        }
      ]
    },
    {
      "cell_type": "markdown",
      "source": [
        "## **Neural Network Regression**"
      ],
      "metadata": {
        "id": "ELA16V6iH_uI"
      }
    },
    {
      "cell_type": "code",
      "source": [
        "from sklearn.neural_network import MLPRegressor\n",
        "from sklearn.preprocessing import StandardScaler\n",
        "from sklearn.metrics import r2_score"
      ],
      "metadata": {
        "id": "s9BjSIwlIFA9"
      },
      "execution_count": 367,
      "outputs": []
    },
    {
      "cell_type": "code",
      "source": [
        "sc_X = StandardScaler()\n",
        "X_trainscaled=sc_X.fit_transform(X_train)\n",
        "X_testscaled=sc_X.transform(X_train)"
      ],
      "metadata": {
        "id": "9u1asZADIHhk"
      },
      "execution_count": 368,
      "outputs": []
    },
    {
      "cell_type": "code",
      "source": [
        "CNNReg = MLPRegressor(hidden_layer_sizes=(64,64,64),activation=\"relu\" ,random_state=1, max_iter=2000).fit(X_trainscaled, y_train)"
      ],
      "metadata": {
        "id": "d99jR2NwIU3m"
      },
      "execution_count": 369,
      "outputs": []
    },
    {
      "cell_type": "code",
      "source": [
        "y_pred=CNNReg.predict(X_testscaled)\n",
        "y_pred"
      ],
      "metadata": {
        "colab": {
          "base_uri": "https://localhost:8080/"
        },
        "id": "Do393ORfIcFI",
        "outputId": "6f8012a2-fd42-406f-8c27-9038fc9a78ff"
      },
      "execution_count": 370,
      "outputs": [
        {
          "output_type": "execute_result",
          "data": {
            "text/plain": [
              "array([ 6.82114095e-01,  9.83802262e-01,  4.85784085e-02, -6.26242154e-02,\n",
              "        9.76443111e-01,  9.72532037e-01,  9.23761714e-01,  8.85666480e-01,\n",
              "       -7.42952140e-02,  7.33924875e-01,  9.34147473e-01,  9.68519988e-01,\n",
              "        9.47171551e-01,  8.95936021e-02,  9.57607935e-01,  5.37365462e-02,\n",
              "        9.60407989e-01, -1.03356117e-01,  9.71279233e-01,  9.48244708e-01,\n",
              "        4.51936052e-02,  9.08250782e-01,  1.00139466e+00, -7.59401632e-02,\n",
              "        9.80273368e-01,  6.60231254e-01,  9.84462294e-01,  9.58408644e-01,\n",
              "        6.13348169e-02,  2.70248089e-02,  8.57958907e-01,  8.21840397e-01,\n",
              "        7.06180942e-01, -5.15640794e-02,  9.93242404e-01,  9.94395527e-01,\n",
              "       -1.80082184e-01,  5.36608410e-01,  1.02717675e+00, -4.24843795e-02,\n",
              "       -4.96191528e-03,  6.86688738e-01,  6.39237642e-01,  2.02766402e-01,\n",
              "        9.70812718e-01,  9.53867921e-01,  9.46767008e-01,  1.99663292e-01,\n",
              "        9.45055117e-01,  3.26104599e-01,  6.94485833e-01, -4.04440085e-02,\n",
              "        1.00377351e+00,  9.85499740e-01,  8.73788202e-01,  1.00182619e+00,\n",
              "       -3.83662922e-02,  9.62642908e-01,  1.05700306e+00, -7.44203174e-02,\n",
              "        9.73522323e-01,  3.41787059e-02, -5.84741256e-02,  9.49628059e-01,\n",
              "        9.69863121e-01, -1.91906615e-02,  9.57086546e-01,  6.81961579e-01,\n",
              "        4.20587748e-03,  9.14145179e-01,  9.08122172e-01, -2.30731818e-02,\n",
              "        9.79180618e-01,  9.94625106e-01,  9.93537668e-01,  9.47485997e-01,\n",
              "        7.09635200e-01, -1.61816758e-02,  9.80709014e-01,  4.87733006e-01,\n",
              "        9.10955917e-01,  9.34997737e-01,  4.82153696e-01,  4.89151288e-01,\n",
              "        9.49812483e-01,  1.02130888e+00, -8.13330383e-02,  8.91914526e-01,\n",
              "       -5.01876017e-02,  9.36205737e-01,  8.68394429e-01, -2.45702907e-02,\n",
              "       -1.05585278e-01,  7.41335331e-01,  7.75211334e-01, -9.20259956e-02,\n",
              "        1.00277701e+00,  9.51439650e-01,  1.06484883e+00,  9.16198069e-01,\n",
              "       -3.31337492e-02,  7.25875388e-01,  6.00696313e-01,  5.71094705e-01,\n",
              "        9.29196592e-01,  9.87925105e-01,  9.77670864e-01,  9.91986185e-01,\n",
              "        9.53242332e-01, -1.96077289e-01, -3.11791489e-02,  9.64992074e-01,\n",
              "        8.32042639e-01, -6.50690727e-02,  9.96291390e-01,  9.60362196e-01,\n",
              "        6.93727223e-01,  8.40090116e-01,  9.97587662e-01, -1.58672243e-01,\n",
              "        8.01608760e-01,  5.64308071e-01,  9.26635443e-01,  9.15284730e-01,\n",
              "        5.94544928e-03, -9.31872485e-02,  8.78029842e-01, -1.56581792e-02,\n",
              "        1.00240239e+00, -3.38754533e-02,  9.44288798e-01,  8.97915069e-01,\n",
              "        5.29226382e-01,  9.88789049e-01,  9.16425503e-01,  9.72673417e-01,\n",
              "        9.86805562e-01,  8.98940750e-01,  8.05252788e-01,  3.31234290e-01,\n",
              "        1.06272882e+00,  9.12875593e-01,  1.00986237e+00,  9.26357245e-01,\n",
              "        9.19006029e-01,  9.55382114e-01,  9.54014969e-01,  9.73635017e-01,\n",
              "        9.09628974e-01,  9.63189145e-01,  9.51261193e-01, -1.21117364e-01,\n",
              "        8.07284375e-01,  9.84963059e-01,  1.00053796e+00,  9.07006797e-01,\n",
              "        1.02055218e+00,  9.79477008e-01, -3.09571592e-02, -2.14356254e-02,\n",
              "        5.71496406e-01,  6.32124734e-02, -1.73981018e-02, -6.40014449e-02,\n",
              "        1.03293846e+00,  9.55834448e-01, -1.22981110e-01,  9.23397245e-01,\n",
              "        9.53286326e-01,  4.54539679e-01,  9.53087396e-01,  4.14229792e-01,\n",
              "       -3.61651831e-02, -1.81228331e-02,  3.92213552e-01,  8.81312986e-01,\n",
              "        9.89724930e-01,  5.37604122e-01,  3.66703685e-01,  8.84843582e-01,\n",
              "        9.78173709e-01,  1.02040832e+00, -5.79263695e-02,  9.40106692e-01,\n",
              "        3.91636941e-01,  9.98411528e-01,  7.12438480e-01,  9.12012048e-01,\n",
              "        1.00837963e+00,  7.50082802e-01,  8.68321775e-01,  9.22031033e-01,\n",
              "        9.99104778e-01,  9.70853087e-01,  8.80965657e-01, -2.33352260e-02,\n",
              "        9.91777925e-01, -5.03237706e-02,  9.64417882e-01, -5.51558613e-02,\n",
              "        6.30254651e-01, -4.56560854e-02,  9.66021695e-01,  9.88180529e-01,\n",
              "        1.74814856e-02, -8.75785613e-02,  5.21755012e-01,  8.21269137e-01,\n",
              "        8.80832384e-01,  1.02200718e+00,  9.13580962e-01,  8.54069002e-01,\n",
              "        1.22171480e-01,  9.88702264e-01,  5.17372328e-01,  1.49367543e-01,\n",
              "        7.12554688e-01,  9.86127855e-01,  9.34902920e-01, -2.98194128e-02,\n",
              "        5.10303173e-02, -3.65637487e-02,  1.01636429e+00,  9.62273669e-01,\n",
              "        9.20618825e-01,  9.17041566e-01, -2.78991443e-02, -8.31335816e-02,\n",
              "        1.00821117e+00,  9.85036935e-01,  1.00863455e+00,  9.71100363e-01,\n",
              "        9.64079205e-01,  8.40078124e-01,  1.03848462e+00,  1.03113854e+00,\n",
              "        4.64631904e-01,  9.37410159e-01,  9.62606815e-01,  1.01949972e+00,\n",
              "        9.43573817e-01, -9.72939642e-02,  8.44872849e-01,  9.47988643e-01,\n",
              "       -7.74783932e-02, -3.57871232e-02,  9.49007371e-01,  9.95148455e-01,\n",
              "       -3.64584895e-02,  8.12105209e-01,  3.39099327e-01, -4.14054515e-02,\n",
              "       -3.71422789e-02,  9.94064857e-01,  9.91092683e-01,  3.08064700e-01,\n",
              "        8.69416168e-01,  9.71854355e-01, -3.98611821e-02,  9.53987174e-01,\n",
              "        8.08610006e-01,  9.51242280e-01,  9.46000597e-01,  9.02554215e-01,\n",
              "        9.52697099e-01,  9.06815924e-01,  9.59414909e-01,  9.93379906e-03,\n",
              "        8.48230780e-01, -2.70051405e-02,  9.51901386e-01,  8.55441429e-01,\n",
              "        9.59230284e-01,  2.42954616e-02,  9.43874458e-01, -3.61290510e-02,\n",
              "        9.38765253e-01,  9.69701961e-01,  9.96378226e-01,  1.00591593e+00,\n",
              "        9.64413640e-01,  9.89204153e-01,  9.51841011e-01, -3.24954798e-02,\n",
              "        9.68750815e-01,  5.13087438e-02,  1.09194402e+00, -3.12492332e-02,\n",
              "        7.58411460e-01,  9.82740545e-01,  9.69128408e-01,  8.89275482e-01,\n",
              "        9.69392756e-01,  8.96704046e-01, -2.57986342e-03,  5.78008812e-01,\n",
              "        8.86150041e-01, -3.56631628e-02,  9.75064281e-01,  9.83256834e-01,\n",
              "       -3.52742745e-02,  9.40471001e-01,  5.25266710e-03,  9.94920873e-01,\n",
              "       -1.45044393e-02,  9.49870765e-01,  5.86726474e-01,  9.73642361e-01,\n",
              "        9.59433357e-01,  1.03998891e+00,  6.64751503e-01,  9.21675210e-01,\n",
              "        9.64736472e-01,  9.88609741e-01, -8.43629264e-03, -9.03017821e-03,\n",
              "        9.41970485e-02,  9.50910929e-01,  9.71964788e-01,  8.63998996e-01,\n",
              "        9.52566375e-01, -8.31683117e-02,  7.47259664e-01,  8.97813509e-01,\n",
              "        9.32543368e-01,  1.00474859e+00,  9.53192415e-01,  9.86254468e-01,\n",
              "        6.30494489e-01,  9.64842538e-01, -8.11998604e-02,  1.01031332e+00,\n",
              "        9.29448874e-01, -4.21030065e-02,  9.77674342e-01, -5.87307977e-02,\n",
              "       -3.43191475e-02, -7.49892845e-02,  8.92653399e-01,  9.69727338e-01,\n",
              "        9.75615245e-01,  9.84686171e-01, -4.85653453e-02,  8.61989379e-01,\n",
              "       -4.46810572e-03,  2.48140841e-04,  9.75084369e-01, -4.76868942e-02,\n",
              "        9.49127795e-01,  9.98699420e-01, -9.18727348e-02,  3.33955942e-01,\n",
              "        9.37725788e-01, -8.27830654e-02,  9.90771722e-01,  9.06870981e-01,\n",
              "       -8.67801641e-03,  9.74850215e-01,  2.46984006e-02, -3.42749695e-02,\n",
              "        6.44640786e-01,  9.53220592e-01,  9.95380482e-01,  9.89662573e-01,\n",
              "        9.05653959e-01,  9.75596856e-01, -1.50481000e-02,  9.25865462e-01,\n",
              "        9.12697758e-01,  8.07226451e-01,  8.84306579e-01,  7.72596140e-01,\n",
              "        9.47784582e-01, -4.60707437e-02, -3.44459715e-02,  1.00601092e+00,\n",
              "        9.75667390e-01,  2.47528950e-01, -4.34913320e-02,  5.51319920e-01,\n",
              "        9.80762720e-01,  7.51717162e-01,  9.17087772e-01,  8.88200027e-01,\n",
              "       -3.22914435e-02,  9.19520294e-01,  9.75922935e-01,  9.59148526e-01,\n",
              "        9.99906897e-01,  5.06773925e-01,  9.34901426e-01,  8.40525288e-01,\n",
              "       -5.51674524e-02, -2.70085666e-02,  9.65095200e-01,  8.94141376e-01,\n",
              "        9.62428223e-01,  9.93920171e-01, -8.53340067e-03,  9.60564309e-01,\n",
              "        9.28953903e-01,  5.83723780e-01,  6.48551757e-01,  9.66722173e-01,\n",
              "       -3.28687365e-02,  5.70533227e-01,  9.37665873e-01,  9.92990128e-01,\n",
              "       -3.00041775e-02, -3.87217521e-02,  9.92678470e-01,  1.02738780e+00,\n",
              "       -1.35578094e-02,  6.94316109e-01,  9.75221125e-01,  1.00064727e+00,\n",
              "        1.00315538e+00,  7.63163361e-01,  8.99478047e-01,  8.29978256e-01,\n",
              "        9.98106878e-01,  2.33363719e-01, -1.42372953e-01,  1.11127970e+00,\n",
              "        9.93362829e-01,  1.44224064e-02,  8.19667048e-01,  8.78454843e-01,\n",
              "        9.30703778e-01,  4.84185008e-01,  4.97376488e-01,  9.01810497e-01,\n",
              "        9.36326111e-01, -4.26564819e-02,  9.91898694e-01,  6.19859182e-01,\n",
              "       -4.22441407e-02,  8.34427946e-01,  9.73133690e-01,  1.11920078e+00,\n",
              "        9.39709877e-01,  9.89876476e-01,  8.05844297e-01,  9.95178660e-01,\n",
              "       -4.96883291e-02, -2.02839225e-02,  9.22229900e-01,  9.01670640e-01,\n",
              "        1.01579581e+00,  9.79108927e-01,  8.51102038e-01, -3.56523498e-02,\n",
              "        9.48561704e-01, -1.44051374e-02, -6.93539250e-03,  1.04687588e+00,\n",
              "        9.86501166e-01,  9.54446958e-01,  9.49525644e-01,  6.50741774e-01,\n",
              "        9.74476290e-01,  9.56915078e-01,  9.42180534e-01,  9.56080788e-01,\n",
              "        9.74402172e-01,  5.53291964e-02,  1.01514793e+00,  9.67451764e-01,\n",
              "        8.61942434e-01,  9.82124671e-01,  9.67594923e-01, -7.05921066e-02,\n",
              "       -4.01228481e-02,  9.79155417e-01,  9.36342658e-01,  9.75175541e-01,\n",
              "       -4.48420250e-02,  9.81243555e-01,  9.65072901e-01, -3.71153589e-02,\n",
              "       -1.42457221e-02, -8.38842241e-02,  9.07968781e-01,  9.78946684e-01,\n",
              "       -3.84210506e-02,  9.97240236e-01,  8.96501478e-01,  9.68783394e-01,\n",
              "        9.71141821e-01,  9.33451643e-01,  9.15866074e-01])"
            ]
          },
          "metadata": {},
          "execution_count": 370
        }
      ]
    },
    {
      "cell_type": "markdown",
      "source": [
        "mean square error"
      ],
      "metadata": {
        "id": "StEyGEUkIqBG"
      }
    },
    {
      "cell_type": "code",
      "source": [
        "from sklearn.metrics  import  mean_squared_error\n",
        "mean_squared_error(y_train, y_pred)"
      ],
      "metadata": {
        "colab": {
          "base_uri": "https://localhost:8080/"
        },
        "id": "NUBc_rjfInO3",
        "outputId": "f078b667-d83c-4e97-f6bb-1fe872bac864"
      },
      "execution_count": 371,
      "outputs": [
        {
          "output_type": "execute_result",
          "data": {
            "text/plain": [
              "0.02637739237466822"
            ]
          },
          "metadata": {},
          "execution_count": 371
        }
      ]
    },
    {
      "cell_type": "code",
      "source": [
        "np.sqrt(mean_squared_error(y_train, y_pred))"
      ],
      "metadata": {
        "colab": {
          "base_uri": "https://localhost:8080/"
        },
        "id": "UrL2U32VIvH3",
        "outputId": "27caf431-06e1-4859-ecc1-7a4d35b9fb6d"
      },
      "execution_count": 372,
      "outputs": [
        {
          "output_type": "execute_result",
          "data": {
            "text/plain": [
              "0.16241118303450727"
            ]
          },
          "metadata": {},
          "execution_count": 372
        }
      ]
    },
    {
      "cell_type": "markdown",
      "source": [
        "## **Polynomial Regression**"
      ],
      "metadata": {
        "id": "yUedjHdgI2zU"
      }
    },
    {
      "cell_type": "code",
      "source": [
        "#\"Enter the degree\" of the polynomial\n",
        "deg = int(5)\n",
        "from sklearn.preprocessing import PolynomialFeatures\n",
        "from sklearn.linear_model import LinearRegression\n",
        "poly = PolynomialFeatures(degree= deg, include_bias=False)\n",
        "poly_features = poly.fit_transform(X_train)\n",
        "poly_reg_model = LinearRegression()\n",
        "poly_fit = poly_reg_model.fit(poly_features, y_train)"
      ],
      "metadata": {
        "id": "NT-lE9JNI9id"
      },
      "execution_count": 373,
      "outputs": []
    },
    {
      "cell_type": "code",
      "source": [
        "poly_predict= poly_reg_model.predict(poly_features)\n",
        "from sklearn.metrics  import  mean_squared_error\n",
        "mean_squared_error(y_train, poly_predict)"
      ],
      "metadata": {
        "colab": {
          "base_uri": "https://localhost:8080/"
        },
        "id": "2fS-VDM7LYhb",
        "outputId": "ff28c0f7-7ba0-4f6c-cd5b-1ccdb70ed102"
      },
      "execution_count": 374,
      "outputs": [
        {
          "output_type": "execute_result",
          "data": {
            "text/plain": [
              "0.016509138128899477"
            ]
          },
          "metadata": {},
          "execution_count": 374
        }
      ]
    },
    {
      "cell_type": "markdown",
      "source": [
        "# **User Input based on regression type chose**"
      ],
      "metadata": {
        "id": "rTpAMF-hN6BO"
      }
    },
    {
      "cell_type": "code",
      "source": [
        "Loan_ID = str(input(\"Enter the Loan_ID: \"))\n",
        "Gender = str(input(\"Enter the Gender: \"))\n",
        "Married = bool(input(\"Enter the Married: \"))\n",
        "Dependents = int(input(\"Enter the Dependents: \"))\n",
        "Education = str(input(\"Enter the Education: \"))\n",
        "Self_Employed = bool(input(\"Enter the Self_Employed; \"))\n",
        "ApplicantIncome = int(input(\"Enter the ApplicantIncome: \"))\n",
        "CoapplicantIncome = int(input(\"Enter the CoapplicantIncome: \"))\n",
        "LoanAmount = int(input(\"Enter the LoanAmount: \"))\n",
        "Loan_Amount_Term = int(input(\"Enter the Loan_Amount_Term: \"))\n",
        "Credit_History = bool(input(\"Enter the Credit_History: \"))\n",
        "Property_Area = str(input(\"Enter the Property_Area: \"))\n",
        "arr=[Loan_ID,Gender, Education, Property_Area] #need to convert strings to numerical value\n",
        "A = encode(arr) \n",
        "data = np.array([[A[0],A[1],A[2],A[3],Married,Dependents,Self_Employed,ApplicantIncome,CoapplicantIncome,LoanAmount,Loan_Amount_Term]])"
      ],
      "metadata": {
        "colab": {
          "base_uri": "https://localhost:8080/",
          "height": 235
        },
        "id": "QRp67rjTOF1z",
        "outputId": "16d00444-3fa9-4675-c115-b80567cc5d87"
      },
      "execution_count": 379,
      "outputs": [
        {
          "output_type": "error",
          "ename": "TypeError",
          "evalue": "ignored",
          "traceback": [
            "\u001b[0;31m---------------------------------------------------------------------------\u001b[0m",
            "\u001b[0;31mTypeError\u001b[0m                                 Traceback (most recent call last)",
            "\u001b[0;32m<ipython-input-379-86980322ca16>\u001b[0m in \u001b[0;36m<module>\u001b[0;34m()\u001b[0m\n\u001b[0;32m----> 1\u001b[0;31m \u001b[0mLoan_ID\u001b[0m \u001b[0;34m=\u001b[0m \u001b[0mstr\u001b[0m\u001b[0;34m(\u001b[0m\u001b[0minput\u001b[0m\u001b[0;34m(\u001b[0m\u001b[0;34m\"Enter the Loan_ID: \"\u001b[0m\u001b[0;34m)\u001b[0m\u001b[0;34m)\u001b[0m\u001b[0;34m\u001b[0m\u001b[0;34m\u001b[0m\u001b[0m\n\u001b[0m\u001b[1;32m      2\u001b[0m \u001b[0mGender\u001b[0m \u001b[0;34m=\u001b[0m \u001b[0mstr\u001b[0m\u001b[0;34m(\u001b[0m\u001b[0minput\u001b[0m\u001b[0;34m(\u001b[0m\u001b[0;34m\"Enter the Gender: \"\u001b[0m\u001b[0;34m)\u001b[0m\u001b[0;34m)\u001b[0m\u001b[0;34m\u001b[0m\u001b[0;34m\u001b[0m\u001b[0m\n\u001b[1;32m      3\u001b[0m \u001b[0mMarried\u001b[0m \u001b[0;34m=\u001b[0m \u001b[0mbool\u001b[0m\u001b[0;34m(\u001b[0m\u001b[0minput\u001b[0m\u001b[0;34m(\u001b[0m\u001b[0;34m\"Enter the Married: \"\u001b[0m\u001b[0;34m)\u001b[0m\u001b[0;34m)\u001b[0m\u001b[0;34m\u001b[0m\u001b[0;34m\u001b[0m\u001b[0m\n\u001b[1;32m      4\u001b[0m \u001b[0mDependents\u001b[0m \u001b[0;34m=\u001b[0m \u001b[0mint\u001b[0m\u001b[0;34m(\u001b[0m\u001b[0minput\u001b[0m\u001b[0;34m(\u001b[0m\u001b[0;34m\"Enter the Dependents: \"\u001b[0m\u001b[0;34m)\u001b[0m\u001b[0;34m)\u001b[0m\u001b[0;34m\u001b[0m\u001b[0;34m\u001b[0m\u001b[0m\n\u001b[1;32m      5\u001b[0m \u001b[0mEducation\u001b[0m \u001b[0;34m=\u001b[0m \u001b[0mstr\u001b[0m\u001b[0;34m(\u001b[0m\u001b[0minput\u001b[0m\u001b[0;34m(\u001b[0m\u001b[0;34m\"Enter the Education: \"\u001b[0m\u001b[0;34m)\u001b[0m\u001b[0;34m)\u001b[0m\u001b[0;34m\u001b[0m\u001b[0;34m\u001b[0m\u001b[0m\n",
            "\u001b[0;31mTypeError\u001b[0m: 'Tensor' object is not callable"
          ]
        }
      ]
    },
    {
      "cell_type": "code",
      "source": [
        "print(\"1. Linear Regression\")\n",
        "print(\"2. Random Forest Regressor\")\n",
        "print(\"3. Lasso Regression\")\n",
        "print(\"4. Ridge Regression\")\n",
        "print(\"5. Decision Tree Algorithm\")\n",
        "print(\"6. SVM Regressor\")\n",
        "print(\"7. Polynomial Regression\")\n",
        "print(\"8. CNN Regression\")\n",
        "print(\"9. Bayesian Ridge Regression\")\n",
        "print(\"10. Kernel Ridge Regression\")\n",
        "print(\"11. KNN Regression\")\n",
        "print(\"Regression Type: \")\n",
        "user_in = int(input())\n",
        "if(user_in == 2):\n",
        "  rand = Random_Forest.predict(data)\n",
        "  print(rand)\n",
        "elif(user_in == 6):\n",
        "  rand = svm_predict.predict(data)\n",
        "  print(rand)\n",
        "elif(user_in == 1):\n",
        "  rand = reg.predict(data)\n",
        "  print(rand)\n",
        "elif(user_in == 4):\n",
        "  rand = ridge.predict(data)\n",
        "  print(rand)\n",
        "elif(user_in == 5):\n",
        "  rand = Decision_tree.predict(data)\n",
        "  print(rand)\n",
        "elif(user_in == 9):\n",
        "  rand = BayReg.predict(data)\n",
        "  print(rand)\n",
        "elif(user_in == 3):\n",
        "  rand = lasso_reg.predict(data)\n",
        "  print(rand)\n",
        "elif(user_in == 7):\n",
        "  rand = poly_reg_model.predict(data)\n",
        "  print(rand) \n",
        "elif(user_in == 8):\n",
        "  rand_2 = CNNReg.predict(data)\n",
        "  print(rand_2)\n",
        "elif(user_in == 10):\n",
        "  rand_2 = kerReg.predict(data)\n",
        "  print(rand_2)  \n",
        "elif(user_in == 11):\n",
        "  rand_2 = knn.predict(data)\n",
        "  print(rand_2)"
      ],
      "metadata": {
        "id": "PSEW4tUZSPJc"
      },
      "execution_count": null,
      "outputs": []
    }
  ],
  "metadata": {
    "kernelspec": {
      "display_name": "Python 3",
      "language": "python",
      "name": "python3"
    },
    "language_info": {
      "codemirror_mode": {
        "name": "ipython",
        "version": 2
      },
      "file_extension": ".py",
      "mimetype": "text/x-python",
      "name": "python",
      "nbconvert_exporter": "python",
      "pygments_lexer": "ipython2",
      "version": "2.7.6"
    },
    "colab": {
      "name": "LoanPrediction.ipynb",
      "provenance": [],
      "collapsed_sections": [
        "j-4odZk1fnbO",
        "NC443uADgTVB",
        "WlijMkAfr2fL",
        "DdFIfQwJ0v60",
        "72uslaPN5vpF",
        "4Mkl1HK36SHQ",
        "xFSqntPs8_Ox",
        "Kmi719F2MLHI",
        "kcFleyIlBLjO",
        "ip21eJdjCToi",
        "4xQJQ9FxDIsF",
        "AVsXMSvDEPZx",
        "PFn51EvtFEXS",
        "S5zmZM2YF8uy",
        "qqlFA_PSGWMc",
        "_XkHGi8_HHOT",
        "ELA16V6iH_uI",
        "yUedjHdgI2zU",
        "rTpAMF-hN6BO"
      ]
    }
  },
  "nbformat": 4,
  "nbformat_minor": 0
}